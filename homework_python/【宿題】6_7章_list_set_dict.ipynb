{
  "nbformat": 4,
  "nbformat_minor": 0,
  "metadata": {
    "colab": {
      "provenance": []
    },
    "kernelspec": {
      "name": "python3",
      "display_name": "Python 3"
    },
    "language_info": {
      "name": "python"
    }
  },
  "cells": [
    {
      "cell_type": "code",
      "execution_count": 15,
      "metadata": {
        "colab": {
          "base_uri": "https://localhost:8080/"
        },
        "id": "L6YzckcT_cPj",
        "outputId": "6e570efd-33aa-42e6-c486-72b6a08335b2"
      },
      "outputs": [
        {
          "output_type": "stream",
          "name": "stdout",
          "text": [
            "[1, 2, 3] [1.1, 1.2, 1.3] ['text1', 'text2', 'text3']\n",
            "<class 'list'> <class 'list'> <class 'list'>\n"
          ]
        }
      ],
      "source": [
        "## 課題後の実践1:\n",
        "## リストに整数・浮動小数点数・文字列をそれぞれ格納してください。その結果をprintしてください。\n",
        "int_lists = [1, 2, 3]\n",
        "float_lists = [1.1, 1.2, 1.3]\n",
        "str_lists = [\"text1\", \"text2\", \"text3\"]\n",
        "\n",
        "print(int_lists, float_lists, str_lists)\n",
        "\n",
        "## リストに入れた各値を変数に格納し、それぞれの型(type)をprintしてください。\n",
        "int_lists_type = int_lists\n",
        "float_lists_type = float_lists\n",
        "str_lists_type = str_lists\n",
        "\n",
        "print(type(int_lists_type), type(float_lists_type), type(str_lists_type))"
      ]
    },
    {
      "cell_type": "code",
      "source": [
        "## 課題後の実践2:\n",
        "## リストに数値データ(1,2,3,4,5)を格納し、最初と最後のインデックスを指して値を変数に格納してください。\n",
        "int_nums = [1, 2, 3, 4, 5]\n",
        "first_index = int_nums[0]\n",
        "last_index = int_nums[-1]\n",
        "\n",
        "## その結果をprint(f)を用いて出力してください。\n",
        "print(f\"最初のインデックスは{first_index}です。最後のインデックスは{last_index}です。\")"
      ],
      "metadata": {
        "colab": {
          "base_uri": "https://localhost:8080/"
        },
        "id": "BQX_ndehBwv_",
        "outputId": "cf2655c2-43fd-4e53-a157-67692f1a0c53"
      },
      "execution_count": 39,
      "outputs": [
        {
          "output_type": "stream",
          "name": "stdout",
          "text": [
            "最初のインデックスは1です。最後のインデックスは5です。\n"
          ]
        }
      ]
    },
    {
      "cell_type": "code",
      "source": [
        "## 課題後の実践3:\n",
        "## 空のリストを定義してください。任意の文字列データを4つ変数へ格納してください。それらの変数をリストへ追加してください。\n",
        "cerebral_infarction_types = []\n",
        "\n",
        "other_stroke = \"右記以外の脳梗塞\"\n",
        "atherothrombotic_stroke = \"アテローム血栓性脳梗塞\"\n",
        "lacunar_stroke = \"ラクナ梗塞\"\n",
        "cardioembolic_stroke = \"心原性脳梗塞\"\n",
        "\n",
        "cerebral_infarction_types.append(other_stroke)\n",
        "cerebral_infarction_types.append(atherothrombotic_stroke)\n",
        "cerebral_infarction_types.append(lacunar_stroke)\n",
        "cerebral_infarction_types.append(cardioembolic_stroke)\n",
        "\n",
        "print(f\"最初にlistに入れた脳梗塞の種類の要素は{cerebral_infarction_types}です。\")\n",
        "\n",
        "## 【メモ】listに要素を追加する場合、list名.append()は1つの要素しか入らない。複数入れる場合はlist名.extend(要素名1, 要素名2)にする必要があり、list名.append([要素1, 要素2])にしたら1つのlistとして要素に追加される。\n",
        "## cerebral_infarction_types.extend([atherothrombotic_stroke, lacunar_stroke, cardioembolic_stroke, other_stroke])  // 【疑問】なぜ行列に？\n",
        "## cerebral_infarction_types.append([atherothrombotic_stroke, lacunar_stroke, cardioembolic_stroke, other_stroke])\n",
        "\n",
        "## その後、最初のデータを削除してください。その結果をprint(f)を用いて出力してください。\n",
        "cerebral_infarction_types.pop(0)\n",
        "print(f\"最初の要素を削除した結果は{cerebral_infarction_types}です。\")\n"
      ],
      "metadata": {
        "colab": {
          "base_uri": "https://localhost:8080/"
        },
        "id": "Pgrf1X_dD3i9",
        "outputId": "fa3a248a-170a-44ad-b044-98e28be5cc05"
      },
      "execution_count": 67,
      "outputs": [
        {
          "output_type": "stream",
          "name": "stdout",
          "text": [
            "最初にlistに入れた脳梗塞の種類の要素は['右記以外の脳梗塞', 'アテローム血栓性脳梗塞', 'ラクナ梗塞', '心原性脳梗塞']です。\n",
            "最初の要素を削除した結果は['アテローム血栓性脳梗塞', 'ラクナ梗塞', '心原性脳梗塞']です。\n"
          ]
        }
      ]
    },
    {
      "cell_type": "code",
      "source": [
        "## 課題後の実践4:\n",
        "## tupleに4つ値を格納してください。そこから最初と最後の値を変数に格納し、print(f)で出力してください。\n",
        "\n",
        "vassel_names = \"前大脳動脈\", \"中大脳動脈\", \"後大脳動脈\", \"脳底動脈\"\n",
        "first_element = vassel_names[0]\n",
        "last_element =vassel_names[-1]\n",
        "\n",
        "print(f\"血管名のリストの最初の要素は{first_element}で、最後の要素は{last_element}です。\")\n",
        "\n",
        "## tupleの型(type)を出力してください。\n",
        "type(vassel_names)"
      ],
      "metadata": {
        "colab": {
          "base_uri": "https://localhost:8080/"
        },
        "id": "MXaYAR2KNYNm",
        "outputId": "761ff423-51c1-43e0-c17a-4b844d43d519"
      },
      "execution_count": 81,
      "outputs": [
        {
          "output_type": "stream",
          "name": "stdout",
          "text": [
            "血管名のリストの最初の要素は前大脳動脈で、最後の要素は脳底動脈です。\n"
          ]
        },
        {
          "output_type": "execute_result",
          "data": {
            "text/plain": [
              "tuple"
            ]
          },
          "metadata": {},
          "execution_count": 81
        }
      ]
    },
    {
      "cell_type": "code",
      "source": [
        "## 課題後の実践5:\n",
        "## setに数値データ: 1, 3, 6, 9, 6, 10, 11, 1, 3, 12, 10, 9を格納し、要素数を出力してください。\n",
        "set_numbers = {1, 3, 6, 9, 6, 10, 11, 1, 3, 12, 10, 9}\n",
        "len(set_numbers)\n",
        "print(f\"set_numbersの要素数は{len(set_numbers)}個です。\")\n",
        "\n",
        "## setに文字列データ: 'A', 'B', 'C', 'D', 'E'を5つ登録してください。\n",
        "## このsetに'Z'を追加してください。その後、'A'を削除してください。その結果をprint(f)を用いて書式で出力してください\n",
        "set_str = {'A', 'B', 'C', 'D', 'E'}\n",
        "print(f\"最初のセット要素は{set_str}です。\")\n",
        "set_str.add('Z')\n",
        "print(f\"Zを加えたセット要素は{set_str}です。\")\n",
        "set_str.remove('A')\n",
        "print(f\"Aを削除したセット要素は{set_str}です。\")"
      ],
      "metadata": {
        "colab": {
          "base_uri": "https://localhost:8080/"
        },
        "id": "fHxUbvUWRp9H",
        "outputId": "9d74dc11-dc24-4d95-80b6-6968bdf6786d"
      },
      "execution_count": 100,
      "outputs": [
        {
          "output_type": "stream",
          "name": "stdout",
          "text": [
            "set_numbersの要素数は7個です。\n",
            "最初のセット要素は{'A', 'C', 'D', 'B', 'E'}です。\n",
            "Zを加えたセット要素は{'A', 'C', 'D', 'B', 'Z', 'E'}です。\n",
            "Aを削除したセット要素は{'C', 'D', 'B', 'Z', 'E'}です。\n"
          ]
        }
      ]
    },
    {
      "cell_type": "code",
      "source": [
        "## 課題後の実践6(応用):\n",
        "## 空のlistを定義してください。そのlistに対して、任意の値を格納したset, 任意の値を格納したtuple, 任意の値を格納したlist, 任意のdictionaryを追加してください。そのlistをprint(f)を用いて出力してください。\n",
        "digestive_organs = []\n",
        "\n",
        "set_intestines = {\"小腸\", \"大腸\"}\n",
        "tapple_selivary = \"耳下腺\", \"舌下腺\", \"顎下腺\"\n",
        "list_head = [\"歯\", \"咽頭\", \"舌\", \"喉頭\"]\n",
        "dictionary_hbp = {\"肝臓\":\"消化液生成、毒素処理\", \"胆のう\":\"胆汁を貯蔵\", \"膵臓\":\"消化酵素とインスリンを生成\", \"脾臓\":\"血中の老廃物を分解、免疫に関与\"}\n",
        "\n",
        "digestive_organs.append([set_intestines, tapple_selivary, list_head, dictionary_hbp])\n",
        "print(f\"消化器系リストの要素は{digestive_organs}です\")\n",
        "\n",
        "## (続き) 3番目の値を変数に格納し、typeを確認してください 。\n",
        "third_element = list_head\n",
        "type(third_element)"
      ],
      "metadata": {
        "colab": {
          "base_uri": "https://localhost:8080/"
        },
        "id": "UPy89b-EUNxL",
        "outputId": "03a1a5d9-21bc-45f2-89b6-774718dabd2d"
      },
      "execution_count": 141,
      "outputs": [
        {
          "output_type": "stream",
          "name": "stdout",
          "text": [
            "消化器系リストの要素は[[{'小腸', '大腸'}, ('耳下腺', '舌下腺', '顎下腺'), ['歯', '咽頭', '舌', '喉頭'], {'肝臓': '消化液生成、毒素処理', '胆のう': '胆汁を貯蔵', '膵臓': '消化酵素とインスリンを生成', '脾臓': '血中の老廃物を分解、免疫に関与'}]]です\n"
          ]
        },
        {
          "output_type": "execute_result",
          "data": {
            "text/plain": [
              "list"
            ]
          },
          "metadata": {},
          "execution_count": 141
        }
      ]
    }
  ]
}