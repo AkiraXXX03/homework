{
  "nbformat": 4,
  "nbformat_minor": 0,
  "metadata": {
    "colab": {
      "provenance": []
    },
    "kernelspec": {
      "name": "python3",
      "display_name": "Python 3"
    },
    "language_info": {
      "name": "python"
    }
  },
  "cells": [
    {
      "cell_type": "code",
      "execution_count": 2,
      "metadata": {
        "colab": {
          "base_uri": "https://localhost:8080/"
        },
        "id": "IooTsTQMCbgu",
        "outputId": "fa648dd2-773b-4cbc-b6e7-ef1fe3cde5d6"
      },
      "outputs": [
        {
          "output_type": "stream",
          "name": "stdout",
          "text": [
            "1は2と異なる。\n",
            "1は2より小さい。\n",
            "1は2以下。\n"
          ]
        }
      ],
      "source": [
        "# 課題後の実践1:\n",
        "# pythonの比較演算子('==', '!=', '>', '<', '>=', '<=')をすべて検証してください。\n",
        "# 例: 変数に値を入れる。その値と別の値を比較し、それぞれの比較演算子を満たす場合はprintを出力する。\n",
        "\n",
        "num1 = 1\n",
        "num2 = 2\n",
        "\n",
        "if num1 == num2:\n",
        "  print(f\"{num1}は{num2}と同じ。\")\n",
        "if num1 != num2:\n",
        "  print(f\"{num1}は{num2}と異なる。\")\n",
        "if num1 > num2:\n",
        "  print(f\"{num1}は{num2}より大きい。\")\n",
        "if num1 < num2:\n",
        "  print(f\"{num1}は{num2}より小さい。\")\n",
        "if num1 >= num2:\n",
        "  print(f\"{num1}は{num2}以上。\")\n",
        "if num1 <= num2:\n",
        "  print(f\"{num1}は{num2}以下。\")"
      ]
    },
    {
      "cell_type": "code",
      "source": [
        "# 課題後の実践2:\n",
        "# 数値を入力し、その数値が正の数なら\"正の数(2)です\"、負の数なら\"負の数(-5)です\"、0なら\"0です\"と出力するプログラムを作成してください。()内の数値はfで出力してください。\n",
        "# 入力は変数にそのまま入れてもよいですし、input()を用いてもよいです。ただし数値の場合はintやfloatへの変換が必要です。\n",
        "\n",
        "# isdigitで判別する方法\n",
        "print(\"■パターン1：isdigitは正の数/0/小数点/文字列は判別できるが、負の数を数字として扱わないので負の数を文字として認識してしまう。\")\n",
        "while True:\n",
        "  str_input1 = input(\"半角で整数を入力してください。例:1,-10,0:\")\n",
        "  if str_input1.isdigit():\n",
        "    int_input1 = int(str_input1)\n",
        "    if int_input1 > 0:\n",
        "      print(f\"正の数{int_input1}です。\")\n",
        "    elif int_input1 == 0:\n",
        "      print(\"0です。\")\n",
        "    else:\n",
        "      print(type(int_input1))\n",
        "    break\n",
        "  else:\n",
        "    print(\"小数点か文字が入力されています。整数を入力してください。\")\n",
        "\n",
        "# isdigitを使用しないで判定する方法\n",
        "print(\"■パターン2：正/負/０は判定できるが、アルファベットや小数点はエラーが出て使えなくなる。\")\n",
        "int_input2 = int(input(\"半角で整数を入力してください。例：1,-10,0: \"))\n",
        "if int_input2 > 0:\n",
        "  print(f\"正の数{int_input2}です。\")\n",
        "elif int_input2 == 0:\n",
        "  print(\"0です。\")\n",
        "else:\n",
        "  print(\"負の数{int_input2}です。\")\n",
        "\n",
        "# 整数以外が入力された時のエラーを回避する場合 (ネット調査しました。)\n",
        "print(\"■パターン3：正/負/０を判定でき、アルファベットや小数点は再入力させる。\")\n",
        "while True:\n",
        "  try:\n",
        "    num_input = int(input(\"整数を入力してください。例:1,0,-10:\"))\n",
        "    if num_input > 0:\n",
        "      print(f\"正の数{num_input}です。\")\n",
        "    elif num_input == 0:\n",
        "      print(\"0です。\")\n",
        "    else:\n",
        "      print(f\"負の数{num_input}です。\")\n",
        "    break\n",
        "  except ValueError:\n",
        "    print(\"少数点か文字を入力していませんか？もう一度、整数で入力してください。\")"
      ],
      "metadata": {
        "colab": {
          "base_uri": "https://localhost:8080/"
        },
        "id": "2yfFEfXaEkXp",
        "outputId": "246de7bf-bd82-4779-ee21-bad015de690b"
      },
      "execution_count": 102,
      "outputs": [
        {
          "output_type": "stream",
          "name": "stdout",
          "text": [
            "■パターン1：isdigitは正の数/0/小数点/文字列は判別できるが、負の数を数字として扱わないので負の数を文字として認識してしまう。\n",
            "半角で整数を入力してください。例:1,-10,0:0.1\n",
            "小数点か文字が入力されています。整数を入力してください。\n",
            "半角で整数を入力してください。例:1,-10,0:a\n",
            "小数点か文字が入力されています。整数を入力してください。\n",
            "半角で整数を入力してください。例:1,-10,0:-10\n",
            "小数点か文字が入力されています。整数を入力してください。\n",
            "半角で整数を入力してください。例:1,-10,0:1\n",
            "正の数1です。\n",
            "■パターン2：正/負/０は判定できるが、アルファベットや小数点はエラーが出て使えなくなる。\n",
            "半角で整数を入力してください。例：1,-10,0: -10\n",
            "負の数{int_input2}です。\n",
            "■パターン3：正/負/０を判定でき、アルファベットや小数点は再入力させる。\n",
            "整数を入力してください。例:1,0,-10:a\n",
            "少数点か文字を入力していませんか？もう一度、整数で入力してください。\n",
            "整数を入力してください。例:1,0,-10:0.1\n",
            "少数点か文字を入力していませんか？もう一度、整数で入力してください。\n",
            "整数を入力してください。例:1,0,-10:-10\n",
            "負の数-10です。\n"
          ]
        }
      ]
    },
    {
      "cell_type": "code",
      "source": [
        "# 課題後の実践3:\n",
        "# 年齢を入力し、20歳以上なら\"成人です\"、20歳未満なら\"未成年です\"と出力するプログラムを作成してください。\n",
        "\n",
        "# 整数以外の入力はエラーで止まる\n",
        "print(\"■パターン1:整数以外を入力したらエラーで止まる。負の数は年齢としてカウントしてしまう。\")\n",
        "input_age1 = int(input(\"年齢を入力してください。\"))\n",
        "if input_age1 >= 20:\n",
        "  print(\"成人です。\")\n",
        "else:\n",
        "  print(\"未成年です。\")\n",
        "\n",
        "# 整数以外の入力はエラーを返す場合\n",
        "print(\"■パターン2:整数以外の入力はtry-except文で再入力になる。しかし、負の数は年齢としてカウントしてしまう。\")\n",
        "while True:\n",
        "  try:\n",
        "    input_age2 = int(input(\"年齢を入力してください。\"))\n",
        "    if input_age2 >= 20:\n",
        "      print(\"成人です。\")\n",
        "    else:\n",
        "      print(\"未成年です。\")\n",
        "    break\n",
        "  except ValueError:\n",
        "      print(\"小数点か文字が入力されています。整数を入力してください。\")\n",
        "\n",
        "# 負の数は再入力するようにcontinue文を追加。 (Chat GPTで調べました。)\n",
        "print(\"■パターン3：パターン２を負の数もcontinue文で再入力させるように修正。\")\n",
        "while True:\n",
        "  try:\n",
        "    input_age3 = int(input(\"年齢を入力してください。\"))\n",
        "    if input_age3 < 0:\n",
        "      print(\"負の数を入力しています。0歳以上を入力してください。\")\n",
        "      continue\n",
        "    if input_age3 >= 20:\n",
        "      print(\"成人です。\")\n",
        "    else:\n",
        "      print(\"未成年です。\")\n",
        "    break\n",
        "  except ValueError:\n",
        "    print(\"小数点か文字が入力されています。整数を入力してください。\")"
      ],
      "metadata": {
        "colab": {
          "base_uri": "https://localhost:8080/"
        },
        "id": "GqwtYqvnF4Ka",
        "outputId": "fd80d474-9031-4999-bde9-432beb214ab5"
      },
      "execution_count": 112,
      "outputs": [
        {
          "output_type": "stream",
          "name": "stdout",
          "text": [
            "■パターン1:整数以外を入力したらエラーで止まる。負の数は年齢としてカウントしてしまう。\n",
            "年齢を入力してください。-10\n",
            "未成年です。\n",
            "■パターン2:整数以外の入力はtry-except文で再入力になる。しかし、負の数は年齢としてカウントしてしまう。\n",
            "年齢を入力してください。-10\n",
            "未成年です。\n",
            "■パターン3：パターン２を負の数もcontinue文で再入力させるように修正。\n",
            "年齢を入力してください。-10\n",
            "負の数を入力しています。0歳以上を入力してください。\n",
            "年齢を入力してください。0\n",
            "未成年です。\n"
          ]
        }
      ]
    },
    {
      "cell_type": "code",
      "source": [
        "# 課題後の実践4:\n",
        "# 2つの数値を入力し、大きい方の数値を出力するプログラムを作成してください。ただし、2つの数値が同じ場合は\"同じ値です\"と出力してください。\n",
        "\n",
        "while True:\n",
        "  try:\n",
        "    input_num1 = float(input(\"1つ目の数値を入力してください。\"))\n",
        "    break\n",
        "  except ValueError:\n",
        "    print(\"文字が入力されています。数値を入力してください。\")\n",
        "while True:\n",
        "  try:\n",
        "    input_num2 = float(input(\"2つ目の数値を入力してください。\"))\n",
        "    break\n",
        "  except ValueError:\n",
        "    print(\"文字が入力されています。数値を入力してください。\")\n",
        "\n",
        "if input_num1 == input_num2:\n",
        "  print(\"同じ値です。\")\n",
        "elif input_num1 > input_num2:\n",
        "  print(f\"大きいほうの値は{input_num1}です。\")\n",
        "else:\n",
        "  print(f\"大きいほうの値は{input_num2}です。\")"
      ],
      "metadata": {
        "id": "jIMvAJUQUcX0"
      },
      "execution_count": null,
      "outputs": []
    },
    {
      "cell_type": "code",
      "source": [
        "# 課題後の実践5:\n",
        "# 西暦の年を入力し、その年がうるう年かどうかを判定するプログラムを作成してください。うるう年の条件は以下です。\n",
        "# 西暦年が4で割り切れる年はうるう年\n",
        "# ただし、100で割り切れる年はうるう年ではない\n",
        "# しかし、400で割り切れる年はうるう年 となります。\n",
        "# ヒント: 条件文の優先事項が何かに注意してください。\n",
        "\n",
        "while True:\n",
        "  christian_era = input(\"うるう年かどうかを確認したい年を西暦で入力してください。\")\n",
        "  if christian_era.isdigit() and 3 <= len(christian_era) <= 4:  # inputで整数と桁数の入力制御方法が分からなかったのでchat GPTで確認しました。\n",
        "    break\n",
        "  else:\n",
        "    print(\"「2025」のように、正式な西暦で入力してください。\")\n",
        "\n",
        "# type(christian_era) # 注)str型になっていたのでint型に変換する必要有り。\n",
        "int_chris_era = int(christian_era)\n",
        "\n",
        "if int_chris_era % 400 == 0 :\n",
        "  print(f\"{christian_era}年はうるう年です。\")\n",
        "elif int_chris_era % 4 == 0 and int_chris_era % 100 == 0:\n",
        "  print(f\"{christian_era}年はうるう年ではありません。\")\n",
        "elif int_chris_era % 4 == 0:\n",
        "  print(f\"{christian_era}年はうるう年です。\")\n",
        "else:\n",
        "  print(f\"{christian_era}年はうるう年ではありません。\")"
      ],
      "metadata": {
        "colab": {
          "base_uri": "https://localhost:8080/"
        },
        "id": "2D7vmD3aaY1E",
        "outputId": "d2223a16-0823-4616-9ef2-7db678366cb4"
      },
      "execution_count": 81,
      "outputs": [
        {
          "output_type": "stream",
          "name": "stdout",
          "text": [
            "うるう年かどうかを確認したい年を西暦で入力してください。1800\n",
            "1800年はうるう年ではありません。\n"
          ]
        }
      ]
    }
  ]
}