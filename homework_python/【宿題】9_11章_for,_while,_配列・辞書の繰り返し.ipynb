{
  "nbformat": 4,
  "nbformat_minor": 0,
  "metadata": {
    "colab": {
      "provenance": []
    },
    "kernelspec": {
      "name": "python3",
      "display_name": "Python 3"
    },
    "language_info": {
      "name": "python"
    }
  },
  "cells": [
    {
      "cell_type": "code",
      "execution_count": 2,
      "metadata": {
        "colab": {
          "base_uri": "https://localhost:8080/"
        },
        "id": "vfr3fRR4B49q",
        "outputId": "accbd36c-56f9-48b7-dc04-8f0869f3c6e9"
      },
      "outputs": [
        {
          "output_type": "stream",
          "name": "stdout",
          "text": [
            "1\n",
            "2\n",
            "3\n",
            "4\n",
            "Fizz\n",
            "6\n",
            "7\n",
            "8\n",
            "9\n",
            "Fizz\n",
            "11\n",
            "12\n",
            "13\n",
            "14\n",
            "Fizz\n",
            "16\n",
            "17\n",
            "18\n",
            "19\n",
            "Fizz\n"
          ]
        }
      ],
      "source": [
        "# 実践1\n",
        "# 1から20までの数字を出力するプログラムを作成してください。ただし、5の倍数の場合は'Fizz'と出力してください。\n",
        "\n",
        "for i in range(1,21):\n",
        "  if i % 5 == 0:\n",
        "    print(\"Fizz\")\n",
        "  else:\n",
        "    print(i)"
      ]
    },
    {
      "cell_type": "code",
      "source": [
        "# 実践2\n",
        "# リストの要素を1つずつ表示するプログラムを作成してください。ただし、要素が'q'の場合は繰り返しを終了してください。\n",
        "\n",
        "lists = [\"前頭部\", \"鼻部\", \"耳介部\", \"頬部\", \"眼窩部\", \"眼窩下部\", \"口部\", \"おとがい部\", \"前頸部\", \"頭頂部\", \"側頭部\", \"後頭部\", \"後頸部\"]\n",
        "for list in lists:\n",
        "  if list == \"後頭部\":\n",
        "    break\n",
        "  print(list)"
      ],
      "metadata": {
        "colab": {
          "base_uri": "https://localhost:8080/"
        },
        "id": "clOr3IN6Ckii",
        "outputId": "cd998593-2fc0-41f8-d3d2-00824100ed63"
      },
      "execution_count": 5,
      "outputs": [
        {
          "output_type": "stream",
          "name": "stdout",
          "text": [
            "前頭部\n",
            "鼻部\n",
            "耳介部\n",
            "頬部\n",
            "眼窩部\n",
            "眼窩下部\n",
            "口部\n",
            "おとがい部\n",
            "前頸部\n",
            "頭頂部\n",
            "側頭部\n"
          ]
        }
      ]
    },
    {
      "cell_type": "code",
      "source": [
        "# 実践3\n",
        "# 1から100までの数字を出力するプログラムを作成してください。\n",
        "# ただし、3の倍数の場合は'Fizz'、5の倍数の場合は'Buzz'、3と5の公倍数の場合は'FizzBuzz'と出力してください。\n",
        "\n",
        "for i in range(1,101):\n",
        "  if i % 3 == 0 and i % 5 == 0:\n",
        "    print(\"FizzBuzz\")\n",
        "  elif i % 3 == 0:\n",
        "    print(\"Fizz\")\n",
        "  elif i % 5 == 0:\n",
        "    print(\"Buzz\")\n",
        "  else:\n",
        "    print(i)"
      ],
      "metadata": {
        "colab": {
          "base_uri": "https://localhost:8080/"
        },
        "id": "e6RewMPsEFf0",
        "outputId": "964c5ca6-d221-4727-8693-1a452884f421"
      },
      "execution_count": 6,
      "outputs": [
        {
          "output_type": "stream",
          "name": "stdout",
          "text": [
            "1\n",
            "2\n",
            "Fizz\n",
            "4\n",
            "Buzz\n",
            "Fizz\n",
            "7\n",
            "8\n",
            "Fizz\n",
            "Buzz\n",
            "11\n",
            "Fizz\n",
            "13\n",
            "14\n",
            "FizzBuzz\n",
            "16\n",
            "17\n",
            "Fizz\n",
            "19\n",
            "Buzz\n",
            "Fizz\n",
            "22\n",
            "23\n",
            "Fizz\n",
            "Buzz\n",
            "26\n",
            "Fizz\n",
            "28\n",
            "29\n",
            "FizzBuzz\n",
            "31\n",
            "32\n",
            "Fizz\n",
            "34\n",
            "Buzz\n",
            "Fizz\n",
            "37\n",
            "38\n",
            "Fizz\n",
            "Buzz\n",
            "41\n",
            "Fizz\n",
            "43\n",
            "44\n",
            "FizzBuzz\n",
            "46\n",
            "47\n",
            "Fizz\n",
            "49\n",
            "Buzz\n",
            "Fizz\n",
            "52\n",
            "53\n",
            "Fizz\n",
            "Buzz\n",
            "56\n",
            "Fizz\n",
            "58\n",
            "59\n",
            "FizzBuzz\n",
            "61\n",
            "62\n",
            "Fizz\n",
            "64\n",
            "Buzz\n",
            "Fizz\n",
            "67\n",
            "68\n",
            "Fizz\n",
            "Buzz\n",
            "71\n",
            "Fizz\n",
            "73\n",
            "74\n",
            "FizzBuzz\n",
            "76\n",
            "77\n",
            "Fizz\n",
            "79\n",
            "Buzz\n",
            "Fizz\n",
            "82\n",
            "83\n",
            "Fizz\n",
            "Buzz\n",
            "86\n",
            "Fizz\n",
            "88\n",
            "89\n",
            "FizzBuzz\n",
            "91\n",
            "92\n",
            "Fizz\n",
            "94\n",
            "Buzz\n",
            "Fizz\n",
            "97\n",
            "98\n",
            "Fizz\n",
            "Buzz\n"
          ]
        }
      ]
    },
    {
      "cell_type": "code",
      "source": [
        "# 実践4\n",
        "# 文字列(英語)を入力として受け取り、その文字列内の母音の数を数えるプログラムを作成してください。ただし、大文字と小文字は区別しないものとします。\n",
        "\n",
        "print(\"■パターン1: 小文字の母音しか抽出されない。\")\n",
        "input_texts1 = input(\"文字数を確認したい英単語を入力してください。\")\n",
        "print(f\"{input_texts1}の文字数は、{len(input_texts1)}個です。\")\n",
        "\n",
        "i1 = 0\n",
        "for text1 in input_texts1:\n",
        "  if text1 == \"a\" or text1 == \"i\" or text1 == \"u\" or text1 == \"e\" or text1 == \"o\":\n",
        "    i1 = i1 + 1\n",
        "print(f\"そのうち母音「a, i, u, e, o」の文字数は{i1}個です。\")\n",
        "print(\"\")\n",
        "\n",
        "# 大文字の小文字変換を調査しました。\n",
        "print(\"■パターン2: lowerを使い、大文字を小文字に変換して母音数を抽出する。\")\n",
        "input_texts2 = input(\"文字数を確認したい英単語を入力してください。\")\n",
        "print(f\"{input_texts2}の文字数は、{len(input_texts2)}個です。\")\n",
        "\n",
        "i2 = 0\n",
        "list_vowels = [\"a\", \"i\", \"u\", \"e\", \"o\"]\n",
        "for text2 in input_texts2.lower():\n",
        "  if text2 in list_vowels:\n",
        "    i2 = i2 + 1\n",
        "print(f\"そのうち母音「a, i, u, e, o」の文字数は{i2}個です。\")"
      ],
      "metadata": {
        "colab": {
          "base_uri": "https://localhost:8080/"
        },
        "id": "GTDnn3L3E0f9",
        "outputId": "f023839c-bad6-4c3f-fa22-3355cb146611"
      },
      "execution_count": 73,
      "outputs": [
        {
          "output_type": "stream",
          "name": "stdout",
          "text": [
            "■パターン1: 小文字の母音しか抽出されない。\n",
            "文字数を確認したい英単語を入力してください。Apple\n",
            "Appleの文字数は、5個です。\n",
            "そのうち母音「a, i, u, e, o」の文字数は1個です。\n",
            "\n",
            "■パターン2: lowerを使い、大文字を小文字に変換して母音数を抽出する。\n",
            "文字数を確認したい英単語を入力してください。Apple\n",
            "Appleの文字数は、5個です。\n",
            "そのうち母音「a, i, u, e, o」の文字数は2個です。\n"
          ]
        }
      ]
    },
    {
      "cell_type": "code",
      "source": [
        "# 実践5\n",
        "# 2つのリストを作成し、forを重ねて実行してください。その結果をprintしてください。\n",
        "\n",
        "elements2 = [1, \"要素2個の2番目\"]\n",
        "elements3 = [4, 5, \"要素3個の3番目\"]\n",
        "\n",
        "for element in elements3:\n",
        "  for element in elements2:\n",
        "    print(f\"要素数3個(4,5,6)のfor文中に要素数2個(1,2)のfor文-{element}\")\n",
        "print(\"\")\n",
        "\n",
        "for element1 in elements2:\n",
        "  for element1 in elements3:\n",
        "    print(f\"要素数2個(1,2)のfor文中に要素数3個(4,5,6)のfor文-{element1}\")\n",
        "print(\"\")\n",
        "\n",
        "for element2 in elements2:\n",
        "  for element3 in elements3:\n",
        "    print(f\"要素数2個(1,2)のfor文中に要素数3個(4,5,6)のfor文、要素名element2-{element2}\")\n",
        "    print(f\"要素数2個(1,2)のfor文中に要素数3個(4,5,6)のfor文、要素名element3-{element3}\")"
      ],
      "metadata": {
        "colab": {
          "base_uri": "https://localhost:8080/"
        },
        "id": "vY4XIMFxRrSo",
        "outputId": "d59a1b04-e625-40f7-d7c7-bb2b58c64b65"
      },
      "execution_count": 77,
      "outputs": [
        {
          "output_type": "stream",
          "name": "stdout",
          "text": [
            "要素数3個(4,5,6)のfor文中に要素数2個(1,2)のfor文-1\n",
            "要素数3個(4,5,6)のfor文中に要素数2個(1,2)のfor文-要素2個の2番目\n",
            "要素数3個(4,5,6)のfor文中に要素数2個(1,2)のfor文-1\n",
            "要素数3個(4,5,6)のfor文中に要素数2個(1,2)のfor文-要素2個の2番目\n",
            "要素数3個(4,5,6)のfor文中に要素数2個(1,2)のfor文-1\n",
            "要素数3個(4,5,6)のfor文中に要素数2個(1,2)のfor文-要素2個の2番目\n",
            "\n",
            "要素数2個(1,2)のfor文中に要素数3個(4,5,6)のfor文-4\n",
            "要素数2個(1,2)のfor文中に要素数3個(4,5,6)のfor文-5\n",
            "要素数2個(1,2)のfor文中に要素数3個(4,5,6)のfor文-要素3個の3番目\n",
            "要素数2個(1,2)のfor文中に要素数3個(4,5,6)のfor文-4\n",
            "要素数2個(1,2)のfor文中に要素数3個(4,5,6)のfor文-5\n",
            "要素数2個(1,2)のfor文中に要素数3個(4,5,6)のfor文-要素3個の3番目\n",
            "\n",
            "要素数2個(1,2)のfor文中に要素数3個(4,5,6)のfor文、要素名element2-1\n",
            "要素数2個(1,2)のfor文中に要素数3個(4,5,6)のfor文、要素名element3-4\n",
            "要素数2個(1,2)のfor文中に要素数3個(4,5,6)のfor文、要素名element2-1\n",
            "要素数2個(1,2)のfor文中に要素数3個(4,5,6)のfor文、要素名element3-5\n",
            "要素数2個(1,2)のfor文中に要素数3個(4,5,6)のfor文、要素名element2-1\n",
            "要素数2個(1,2)のfor文中に要素数3個(4,5,6)のfor文、要素名element3-要素3個の3番目\n",
            "要素数2個(1,2)のfor文中に要素数3個(4,5,6)のfor文、要素名element2-要素2個の2番目\n",
            "要素数2個(1,2)のfor文中に要素数3個(4,5,6)のfor文、要素名element3-4\n",
            "要素数2個(1,2)のfor文中に要素数3個(4,5,6)のfor文、要素名element2-要素2個の2番目\n",
            "要素数2個(1,2)のfor文中に要素数3個(4,5,6)のfor文、要素名element3-5\n",
            "要素数2個(1,2)のfor文中に要素数3個(4,5,6)のfor文、要素名element2-要素2個の2番目\n",
            "要素数2個(1,2)のfor文中に要素数3個(4,5,6)のfor文、要素名element3-要素3個の3番目\n"
          ]
        }
      ]
    },
    {
      "cell_type": "code",
      "source": [
        "# 実践6\n",
        "# 2つのリストをforで回し、それらをtupleとして新しいリストへ格納するプログラムを作成してください。\n",
        "\n",
        "lists_6_1 = [1, 2]\n",
        "lists_6_2 = [3, 4]\n",
        "\n",
        "lists_6_3 = []\n",
        "for list_6_1 in lists_6_1:\n",
        "  for list_6_2 in lists_6_2:\n",
        "    lists_6_3.append((list_6_1, list_6_2)) #ここでchat GPTを使用しました。関数のreturnの仕組みと同じ考え方でしょうか。chat GPTでは関数の戻り値とは違い、tupleをlistに追加しているだけだと記載していましたが、戻り値との違いが分かりません。\n",
        "\n",
        "print(lists_6_3)"
      ],
      "metadata": {
        "colab": {
          "base_uri": "https://localhost:8080/"
        },
        "id": "BXoQwkRNYzXY",
        "outputId": "32fc74dc-f7cb-4cd4-9ee3-00d274817b48"
      },
      "execution_count": 83,
      "outputs": [
        {
          "output_type": "stream",
          "name": "stdout",
          "text": [
            "[(1, 3), (1, 4), (2, 3), (2, 4)]\n"
          ]
        }
      ]
    },
    {
      "cell_type": "code",
      "source": [
        "# 実践7\n",
        "# リストに数字を複数入力し、入力した数字の合計値が100を超えたら繰り返しを終了するプログラムを作成してください。inputとint変換を使うとわかりやすいです。\n",
        "\n",
        "lists_7 = []\n",
        "i = 1\n",
        "total = 0\n",
        "\n",
        "while total <= 100:\n",
        "  cal_input = int(input(f\"数値{i}：\"))\n",
        "  lists_7.append(cal_input)\n",
        "  total = total + cal_input\n",
        "  i = i + 1\n",
        "  if total <= 100:\n",
        "    print(f\"現在の合計値{total}\")\n",
        "  else:\n",
        "    print(f\"合計が100を超えました。合計値{total}\")"
      ],
      "metadata": {
        "colab": {
          "base_uri": "https://localhost:8080/"
        },
        "id": "uTVtl32lcqDf",
        "outputId": "af3a55ef-ccc1-4bb2-9448-b1554b8913ff"
      },
      "execution_count": 104,
      "outputs": [
        {
          "output_type": "stream",
          "name": "stdout",
          "text": [
            "数値1：10\n",
            "現在の合計値10\n",
            "数値2：20\n",
            "現在の合計値30\n",
            "数値3：30\n",
            "現在の合計値60\n",
            "数値4：40\n",
            "現在の合計値100\n",
            "数値5：50\n",
            "合計が100を超えました。合計値150\n"
          ]
        }
      ]
    },
    {
      "cell_type": "code",
      "source": [
        "# 実践8\n",
        "# 与えられたディクショナリーから、値が偶数のキーと値のペアのみを新しいディクショナリーとして出力するプログラムを作成してください。\n",
        "dict_8_1 = {1:1, 2:2, 3:3, 4:4, 5:5}\n",
        "dict_8_2 = {}\n",
        "\n",
        "for key, value in dict_8_1.items():\n",
        "  if value % 2 == 0:\n",
        "    dict_8_2[key] = value #for文から抽出したkeyとvalueを別辞書に追加する方法をChat GPTで検索しました。\n",
        "print(dict_8_2)"
      ],
      "metadata": {
        "colab": {
          "base_uri": "https://localhost:8080/"
        },
        "id": "qDs43ZIX3zzH",
        "outputId": "9c548501-5d95-41d2-b977-c6f30ca1fdc6"
      },
      "execution_count": 109,
      "outputs": [
        {
          "output_type": "stream",
          "name": "stdout",
          "text": [
            "{2: 2, 4: 4}\n"
          ]
        }
      ]
    }
  ]
}