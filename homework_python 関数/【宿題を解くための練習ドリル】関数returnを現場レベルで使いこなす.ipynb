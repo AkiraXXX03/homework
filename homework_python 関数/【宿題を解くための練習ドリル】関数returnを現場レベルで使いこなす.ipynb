{
  "nbformat": 4,
  "nbformat_minor": 0,
  "metadata": {
    "colab": {
      "provenance": []
    },
    "kernelspec": {
      "name": "python3",
      "display_name": "Python 3"
    },
    "language_info": {
      "name": "python"
    }
  },
  "cells": [
    {
      "cell_type": "code",
      "execution_count": null,
      "metadata": {
        "id": "12rISwFzLgvb"
      },
      "outputs": [],
      "source": [
        "def greet():\n",
        "  print(\"Hello\")\n",
        "def say_hello():\n",
        "  print(\"Say Hello\")\n",
        "def goodby():\n",
        "  print(\"goodby\")\n",
        "def welcome():\n",
        "  print(\"welcome\")\n",
        "def thanks():\n",
        "  print(\"thanks\")\n",
        "def sorry():\n",
        "  print(\"sorry\")\n",
        "def good_mornint():\n",
        "  print(\"good morning\")\n",
        "def good_night():\n",
        "  print(\"good night\")\n",
        "def study():\n",
        " print(\"study\")\n",
        "def relax():\n",
        "  print(\"relax\")"
      ]
    },
    {
      "cell_type": "code",
      "source": [
        "def number():\n",
        "  return 5\n",
        "def name():\n",
        "  return \"Alice\"\n",
        "def is_reiny():\n",
        "  return True\n",
        "def pi():\n",
        "  return 3.14\n",
        "def greet():\n",
        "  return \"こんにちは\"\n",
        "def lucky_number():\n",
        "  return 7\n",
        "def day():\n",
        "  return \"Monday\"\n",
        "def age():\n",
        "  return 30\n",
        "def contry():\n",
        "  return \"Japan\"\n",
        "def temp():\n",
        "  return 36.5"
      ],
      "metadata": {
        "id": "R3QJKrTJNKJ3"
      },
      "execution_count": null,
      "outputs": []
    },
    {
      "cell_type": "code",
      "source": [
        "def square(x):\n",
        "  return X*X\n",
        "def greet(name):\n",
        "  return \"こんにちは、\" + name\n",
        "def add(a, b):\n",
        "  return a + b\n",
        "def minus(a, b):\n",
        "  return a - b\n",
        "def repeat(word, n):\n",
        "  return word * n\n",
        "def divide(a, b):\n",
        "  return a / b\n",
        "def double(x):\n",
        "  return x * 2\n",
        "def is_even(n):\n",
        "  return n % 2 == 0\n",
        "def upper(text):\n",
        "  retrun text.upeer()\n",
        "def hello(name):\n",
        "  return f\"Hello {name}\""
      ],
      "metadata": {
        "id": "FhMDnORDN0_H"
      },
      "execution_count": null,
      "outputs": []
    },
    {
      "cell_type": "code",
      "source": [
        "def one():\n",
        "  return 1\n",
        "num_list = [one()]\n",
        "\n",
        "def two():\n",
        "  return 2\n",
        "nums = [one(), two()]\n",
        "\n",
        "def a():\n",
        "  return \"a\"\n",
        "letters = [a()]\n",
        "\n",
        "def get_pi():\n",
        "  return 3.14\n",
        "vals = [get_pi()]\n",
        "\n",
        "def yes():\n",
        "  return True\n",
        "blooeans = [yes()]\n",
        "\n",
        "def hello():\n",
        "  return \"Hello\"\n",
        "texts = [hello(), hello()]\n",
        "\n",
        "def x():\n",
        "  return 10\n",
        "def y():\n",
        "  return 20\n",
        "\n",
        "points = [x(), y()]\n",
        "\n",
        "def even():\n",
        "  return [2, 4, 6]\n",
        "evens = even()\n",
        "\n",
        "def odd():\n",
        "  return [1, 3, 5]\n",
        "odds = odd()\n",
        "\n",
        "def both():\n",
        "  return [1, 2]\n",
        "nums = both()"
      ],
      "metadata": {
        "id": "mLxiAFo4Ohlm"
      },
      "execution_count": null,
      "outputs": []
    },
    {
      "cell_type": "code",
      "source": [
        "#総合演習1 名前と年齢を受け取って、自己紹介文を返す関数を作りましょう。\n",
        "\n",
        "#コード1.１つの関数でまとめる\n",
        "def introduce1(name: str, age: int) -> str:\n",
        "  \"\"\"名前と年齢を受け取り、自己紹介文を返す\"\"\"\n",
        "  return f\"私の名前は{name}、{age}歳です。\"\n",
        "print(introduce1(\"Alice\", 24))\n",
        "\n",
        "#コード1. input版に応用\n",
        "def introduce1_inp(name1: str, age1: int) -> str:\n",
        "  return f\"私の名前は{name1}, {age1}歳です。\"\n",
        "\n",
        "name1 = input(\"名前を入力　\") # 文字列なのでinput()で十分。エラー処理は基本不要\n",
        "\n",
        "while True:                  # 整数限定なので、try-exceptでエラー対策。\n",
        "  try:\n",
        "    age1 = int(input(\"年齢を入力　\"))\n",
        "    if age1 < 0:\n",
        "      print(\"エラー：年齢は0以上で入力してください。\")\n",
        "      continue\n",
        "    break\n",
        "  except ValueError:\n",
        "    print(\"エラー：整数を入力してください。\")\n",
        "print(introduce1_inp(name1, age1))\n",
        "\n",
        "#コード2. 分割関数\n",
        "def get_name(name: str) -> str:\n",
        "  return name\n",
        "def get_age(age: int) -> int:\n",
        "  return age\n",
        "def introduce(name: str, age: int) -> str:\n",
        "  return f\"私の名前は{get_name(name)}、{get_age(age)}歳です。\"\n",
        "\n",
        "print(introduce(\"Cassy\", 18))"
      ],
      "metadata": {
        "id": "DqT76Q1ZTyK7"
      },
      "execution_count": null,
      "outputs": []
    },
    {
      "cell_type": "code",
      "source": [
        "#総合演習1-応用1 分割関数が使用される現場例1 バリデーション(入力チェック)が必要な場合\n",
        "def get_name(name: str) -> str:\n",
        "  if not name.isalpha():\n",
        "    raise ValueError(\"名前はアルファベットのみで入力してください。\")\n",
        "  return name\n",
        "\n",
        "def get_age(age: int) -> int:\n",
        "  if age < 0:\n",
        "    raise ValueError(\"年齢は0以上である必要があります。\")\n",
        "  return age\n",
        "\n",
        "def introduce(name: str, age: int) -> str:\n",
        "  return f\"私の名前は{get_name(name)}、{get_age(age)}歳です。\"\n",
        "\n",
        "print(introduce(\"Michel\", 30))"
      ],
      "metadata": {
        "colab": {
          "base_uri": "https://localhost:8080/"
        },
        "id": "zD8kECblVgbY",
        "outputId": "f0312a48-a957-4ed3-ccb4-cdae7e3a74b9"
      },
      "execution_count": null,
      "outputs": [
        {
          "output_type": "stream",
          "name": "stdout",
          "text": [
            "私の名前はMichel、30歳です。\n"
          ]
        }
      ]
    },
    {
      "cell_type": "code",
      "source": [
        "#総合演習1-応用2 分割関数が使用される現場例1 バリデーション(入力チェック)が必要でinput入力の制御をする場合\n",
        "def get_name() -> str:\n",
        "  while True:\n",
        "    name = input(\"名前を入力　\")\n",
        "    if name.isalpha():\n",
        "      return name\n",
        "    else:\n",
        "      print(\"名前はアルファベットのみで入力してください。\")\n",
        "\n",
        "def get_age() -> int:\n",
        "  while True:\n",
        "    age_input = input(\"年齢を入力　\")\n",
        "    if not age_input.isdigit():\n",
        "      print(\"年齢は数字で入力してください。\")\n",
        "      continue\n",
        "    age = int(age_input)\n",
        "    if age < 0:\n",
        "      print(\"年齢は0以上である必要があります。\")\n",
        "      continue\n",
        "    return age\n",
        "\n",
        "def introduce(name: str, age: int) -> str:\n",
        "  return f\"私の名前は{name}、{age}歳です。\"\n",
        "\n",
        "name = get_name()\n",
        "age = get_age()\n",
        "message = introduce(name, age)"
      ],
      "metadata": {
        "colab": {
          "base_uri": "https://localhost:8080/"
        },
        "id": "_25Njzota9VL",
        "outputId": "c95e4437-7a38-4b7b-c88a-30da5484a8e4"
      },
      "execution_count": null,
      "outputs": [
        {
          "name": "stdout",
          "output_type": "stream",
          "text": [
            "名前を入力　re1iあ\n",
            "名前はアルファベットのみで入力してください。\n",
            "名前を入力　ちぇるしi\n",
            "年齢を入力　-1\n",
            "年齢は数字で入力してください。\n",
            "年齢を入力　1\n"
          ]
        }
      ]
    },
    {
      "cell_type": "code",
      "source": [
        "#総合演習1-応用3 分割関数が使用される現場例1 inputは使用しないがAPIへのデータ送信前の検証でバリデーション(入力チェック)が必要な時。\n",
        "def get_name(name: str) -> str:\n",
        "  if not name. isalpha():\n",
        "    raise ValueError(\"名前はアルファベットのみ入力\")\n",
        "  return name\n",
        "\n",
        "def get_age(age: int) -> int:\n",
        "  if age < 0:\n",
        "    raise ValueError(\"年齢は0以上にする必要がある。\")\n",
        "  return age\n",
        "\n",
        "def introduce(name: str, age: int) -> str:\n",
        "  return f\"私の名前は{get_name(name)}、{get_age(age)}歳です。\"\n",
        "\n",
        "print(introduce(\"Orlen\", 40))"
      ],
      "metadata": {
        "colab": {
          "base_uri": "https://localhost:8080/"
        },
        "id": "WS--3CIrj2Gy",
        "outputId": "34501a52-7a43-47fa-bc98-4376eadebae2"
      },
      "execution_count": null,
      "outputs": [
        {
          "output_type": "stream",
          "name": "stdout",
          "text": [
            "私の名前はOrlen、40歳です。\n"
          ]
        }
      ]
    },
    {
      "cell_type": "code",
      "source": [
        "#総合演習1-応用4 分割関数が使用される現場例2 データベースやファイルから値を取得する場面\n",
        "# データベースやファイルから取得する前提での分離\n",
        "# 利用用途：会員データの表示、医療現場での「患者ID」から氏名・年齢を表示する画面など\n",
        "\n",
        "def get_name_from_db(user_id: int) -> str:\n",
        "  fake_user_db = {1: \"Alice\", 2: \"Bob\"}\n",
        "  return fake_user_db.get(user_id, \"Unknown\")\n",
        "\n",
        "def get_age_from_db(user_id: int) -> int:\n",
        "  fake_age_db = {1: 24, 2: 30}\n",
        "  return fake_age_db.get(user_id, -1)\n",
        "\n",
        "def introduce_from_db(user_id: int) -> str:\n",
        "  name = get_name_from_db(user_id)\n",
        "  age = get_age_from_db(user_id)\n",
        "  return f\"私の名前は{name}、{age}歳です。\"\n",
        "\n",
        "print(introduce_from_db(1))\n",
        "print(introduce_from_db(3))"
      ],
      "metadata": {
        "colab": {
          "base_uri": "https://localhost:8080/"
        },
        "id": "mRjsrdxlAnir",
        "outputId": "815b6efd-d341-4adf-a26c-d7181ab02f6e"
      },
      "execution_count": null,
      "outputs": [
        {
          "output_type": "stream",
          "name": "stdout",
          "text": [
            "私の名前はAlice、24歳です。\n",
            "私の名前はUnknown、-1歳です。\n"
          ]
        }
      ]
    },
    {
      "cell_type": "code",
      "source": [
        "#総合演習1-応用5 分割関数が使用される現場例3 将来の拡張を見越して共通処理を関数化\n",
        "def get_name(name: str) -> str:\n",
        "  return name.capitalize()\n",
        "\n",
        "def get_age(age: int) -> int:\n",
        "  return max(age, 0) #　マイナスを0に補正するように将来拡張\n",
        "\n",
        "def introduce(name: str, age: int) -> str:\n",
        "  return f\"私の名前は{get_name(name)}、{get_age(age)}歳です。\"\n",
        "\n",
        "print(introduce(\"alice\", -5))"
      ],
      "metadata": {
        "colab": {
          "base_uri": "https://localhost:8080/"
        },
        "id": "K0-vfVfcCbG0",
        "outputId": "bfa4d2f0-c0ac-4b23-877e-454dd5d26fb8"
      },
      "execution_count": null,
      "outputs": [
        {
          "output_type": "stream",
          "name": "stdout",
          "text": [
            "私の名前はAlice、0歳です。\n"
          ]
        }
      ]
    },
    {
      "cell_type": "code",
      "source": [
        "#総合演習2 数値を受け取り、奇数か偶数かを返す関数を作りましょう。\n",
        "\n",
        "# 初心者レベルなら合格\n",
        "def odd_or_even(num):\n",
        "  if num % 2 == 0:\n",
        "    return \"偶数\"\n",
        "  else:\n",
        "    return \"奇数\"\n",
        "\n",
        "import random\n",
        "num1 = random.randint(1,1000)\n",
        "print(f\"{num1}は{odd_or_even(num1)}です。\")\n",
        "\n",
        "# 開発現場ならこうなる。\n",
        "def get_parity_label(num: int) -> str:\n",
        "  \"\"\"数値が奇数か偶数かを判定し、文字列で返す\"\"\"\n",
        "  return \"偶数\" if num % 2 == 0 else \"奇数\"\n",
        "\n",
        "if __name__ == \"__main__\":\n",
        "  import random\n",
        "  num1 = random.randint(1, 1000)\n",
        "  print(f\"{num1}は{get_parity_label(num1)}です。\")"
      ],
      "metadata": {
        "colab": {
          "base_uri": "https://localhost:8080/"
        },
        "id": "1Agwk_nlmbx9",
        "outputId": "63e15a6d-44a9-4404-ce30-9a635e524205"
      },
      "execution_count": null,
      "outputs": [
        {
          "output_type": "stream",
          "name": "stdout",
          "text": [
            "173は奇数です。\n",
            "170は偶数です。\n"
          ]
        }
      ]
    },
    {
      "cell_type": "code",
      "source": [
        "#総合演習3 3つの数値を受け取り、平均を返す関数を作りましょう。\n",
        "\n",
        "# 初心者の合格ライン\n",
        "def cal_ave(num1: int, num2: int, num3: int) -> int:\n",
        "  ave = (num1 + num2 + num3) / 3\n",
        "  return ave\n",
        "print(cal_ave(1,2,3))\n",
        "\n",
        "# 開発現場なら\n",
        "def calculate_average(*nums: float) -> float:\n",
        "  \"\"\"任意個の数値を受け取り、その平均を返す\"\"\"\n",
        "  if not nums:\n",
        "    raise ValueError(\"1つ以上の数値を渡してください。\")\n",
        "  return sum(nums) / len(nums)\n",
        "\n",
        "if __name__ == \"__main__\":\n",
        "  print(calculate_average(1.1, 2.5, 3.8))"
      ],
      "metadata": {
        "colab": {
          "base_uri": "https://localhost:8080/"
        },
        "id": "OmbSyx0rDjPG",
        "outputId": "89373150-4ad8-427d-a850-42ba40ac4c96"
      },
      "execution_count": null,
      "outputs": [
        {
          "output_type": "stream",
          "name": "stdout",
          "text": [
            "2.0\n",
            "2.466666666666667\n"
          ]
        }
      ]
    },
    {
      "cell_type": "code",
      "source": [
        "#総合演習4 リストを受け取り、その合計を返す関数を作りましょう。\n",
        "\n",
        "# 初心者としてはOK\n",
        "'''list内の要素をすべて足した値を返す'''\n",
        "def sum_elements(lists):\n",
        "  total = 0\n",
        "  for value in lists:\n",
        "    total += value\n",
        "  return total\n",
        "\n",
        "lists1 = [1, 2, 3, 4, 5]\n",
        "print(sum_elements(lists1))\n",
        "\n",
        "# 開発現場なら\n",
        "# 開発現場1 (sumを使うがあえてfor文を使うなら、型ヒントと関数の説明を入れる。テストコードも。)\n",
        "from typing import List\n",
        "def calculate_list_total(numbers: List[int]) -> int:\n",
        "  \"\"\"\n",
        "  数値のリストを受け取り、その合計を返す。\n",
        "  Parameters :\n",
        "    numbers (List[int]): 合計を求める整数のリスト。\n",
        "  Returns:\n",
        "    int : リスト内の合計値。\n",
        "  \"\"\"\n",
        "  total = 0\n",
        "  for value in numbers:\n",
        "    total += value\n",
        "  return total\n",
        "\n",
        "if __name__ == \"__main__\":\n",
        "  example_list = [1, 2, 3, 4, 5]\n",
        "  print(f\"合計値：{calculate_list_total(example_list)}\")\n",
        "\n",
        "# 開発現場2 (sumを使う。)\n",
        "from typing import List\n",
        "\n",
        "def calculate_list_total(numbers: List[int]) -> int:\n",
        "  \"\"\"\n",
        "  数値のリストを受け取り、その合計を返す。\n",
        "  Parameters:\n",
        "    numbers (List[int]): 合計を求める整数のリスト。\n",
        "  Returns:\n",
        "    int: リスト内の合計値。\n",
        "  \"\"\"\n",
        "  return sum(numbers)\n",
        "\n",
        "if __name__ == \"__main__\":\n",
        "  example_list = [1, 2, 3, 4, 5]\n",
        "  print(f\"合計値：{calculate_list_total(example_list)}\")\n",
        "\n",
        "# 開発現場3 (空リストや**非整数（例：文字列や浮動小数点など）**が混入した場合にも対応)\n",
        "from typing import List, Union\n",
        "\n",
        "def calculate_list_total(numbers: List[Union[int, float]]) -> float: \t# Union[int, float]は整数・浮動小数点の両方を許容（現場でよくある）\n",
        "  \"\"\"\n",
        "  数値のリストを受け取り、その合計を返す。\n",
        "  Parameters:\n",
        "    numbers(List[Union[int, float]]): 合計を求める数値のリスト。\n",
        "  Returns:\n",
        "    float: リスト内の合計値。\n",
        "  Raises:\n",
        "    ValueError: 空のリスト、または非数値を含むリストが渡された場合。\n",
        "  \"\"\"\n",
        "  if not numbers:  # not numbers：　空リストかどうかをチェックします\n",
        "    raise ValueError(\"リストが空です。1つ以上の数値を入力してください。\")\n",
        "\n",
        "  for i, value in enumerate(numbers):\n",
        "    if not isinstance(value, (int, float)):  # isinsstance(value, (int, float))：リストの各要素が数値型かチェック\n",
        "      raise ValueError(f\"リストの{i + 1}番目の要素({value})が数値ではありません。\")\n",
        "\n",
        "  return sum(numbers)\n",
        "\n",
        "# 使用例\n",
        "if __name__ == \"__main__\":\n",
        "  try:     # try-except 実行時に問題があっても落ちずにメッセージを出す\n",
        "    sample_list = [1, 2, 3, 4, \"a\", 5]\n",
        "    result = calculate_list_total(sample_list)\n",
        "    print(f\"合計値：{result}\")\n",
        "  except ValueError as e:\n",
        "    print(f\"[入力エラー]{e}\")"
      ],
      "metadata": {
        "colab": {
          "base_uri": "https://localhost:8080/"
        },
        "id": "5Xn680UrNYhZ",
        "outputId": "04afa77d-d64b-4e5f-ba22-314442ee83cd"
      },
      "execution_count": null,
      "outputs": [
        {
          "output_type": "stream",
          "name": "stdout",
          "text": [
            "15\n",
            "合計値：15\n",
            "合計値：15\n",
            "[入力エラー]リストの5番目の要素(a)が数値ではありません。\n"
          ]
        }
      ]
    },
    {
      "cell_type": "code",
      "source": [
        "#総合演習5 リストを受け取り、偶数だけを抽出する関数を作りましょう。\n",
        "\n",
        "# 初心者レベルならOK\n",
        "def extract_even_numbers(numbers: list[int]) -> list[int]:\n",
        "  \"\"\"\n",
        "  与えられたリストの偶数だけを抽出し、偶数の値だけをリストで返す。\n",
        "  Parameters:\n",
        "    list[int]: 抽出する偶数の元データ。\n",
        "  Returns:\n",
        "    list[int]: 偶数の整数のリスト。\n",
        "  \"\"\"\n",
        "  even_lists = []\n",
        "  for i in numbers:\n",
        "    if i % 2 == 0:\n",
        "      even_lists.append(i)\n",
        "  return even_lists\n",
        "\n",
        "if __name__ == \"__main__\":\n",
        "  example_lists = [1, 2, 3, 4, 5]\n",
        "  print(extract_even_numbers(example_lists))\n",
        "\n",
        "# 開発現場なら\n",
        "from typing import List\n",
        "\n",
        "def extract_even_numbers(numbers: List[int]) -> List[int]:\n",
        "  \"\"\"\n",
        "  与えられた整数のリストから偶数のみを抽出して返す。\n",
        "  Args:\n",
        "      numbers (List[int])): 元の整数リスト。\n",
        "  Returns:\n",
        "      List[int]: 偶数のみのリスト。\n",
        "  \"\"\"\n",
        "  return [n for n in numbers if n % 2 == 0]\n",
        "\n",
        "def test_extract_even_numbers():\n",
        "  assert extract_even_numbers([1, 2, 3, 4, 5]) == [2, 4]\n",
        "  assert extract_even_numbers([1, 3, 5]) == []\n",
        "  assert extract_even_numbers([]) == []\n",
        "  print(\"すべてのテストに合格しました。\")\n",
        "\n",
        "if __name__ == \"__main__\":\n",
        "  test_extract_even_numbers()"
      ],
      "metadata": {
        "colab": {
          "base_uri": "https://localhost:8080/"
        },
        "id": "rEw8oBI3VJOb",
        "outputId": "bc24a841-4daf-489b-de20-c3209bf0f3bd"
      },
      "execution_count": null,
      "outputs": [
        {
          "output_type": "stream",
          "name": "stdout",
          "text": [
            "[2, 4]\n",
            "すべてのテストに合格しました。\n"
          ]
        }
      ]
    },
    {
      "cell_type": "code",
      "source": [
        "#総合演習6 引数で渡された文字列が母音をいくつ含むかを返す関数を作りましょう。\n",
        "\n",
        "# Code1: 失敗。\n",
        "def count_vowel(characters: list[str]) -> int:  # 型が違う。list[str]ではなくただの文字列。str。\n",
        "  vowel_lists = []\n",
        "  vowel_tuple = (\"a\",\"i\",\"u\",\"e\",\"o\")\n",
        "  for char in characters:\n",
        "    for char_vowel in vowel_tuple:              # この中でvowel_lists.append(char_vowel) を毎回やっているので、「母音を追加している」だけで「数えていない」。\n",
        "      vowel_lists.append(char_vowel)\n",
        "  return vowel_lists\n",
        "print(count_vowel(\"Apple\"))\n",
        "\n",
        "# Code2: カウントはできたけど良くない。\n",
        "def count_vowel(characters: list[str]) -> int:\n",
        "  vowel_lists = []\n",
        "  for char in characters:\n",
        "    # if char.lower() == \"a\" or  char == \"i\" or  char == \"u\" or char == \"e\" or  char == \"o\":\n",
        "    if char.lower() in (\"a\", \"i\", \"u\", \"e\", \"o\"):\n",
        "      vowel_lists.append(char)\n",
        "  return len(vowel_lists)\n",
        "\n",
        "if __name__ == \"__main__\":\n",
        "  word = \"Apple\"\n",
        "  print(f\"{word}の母音数は{count_vowel(word)}個です。\")\n",
        "\n",
        "# Code3: 正解\n",
        "# ﾎﾟｲﾝﾄ：①text.lower() ②inを使い、複数候補中をチェック ③countで1つずつ増やしていく。\n",
        "\n",
        "def cout_vowel(text: str) -> int:\n",
        "  vowels = (\"a\", \"i\", \"u\", \"e\", \"o\")\n",
        "  count = 0\n",
        "  for char in text.lower(): #① \"Apple\"→\"apple\n",
        "    if char in vowels:      #② もしa p p l eの文字にa i u e oが含まれていれば\n",
        "      count += 1            #③ カウントする。\n",
        "  return count\n",
        "\n",
        "word = \"Apple\"\n",
        "print(f\"{word}の母音数は{count_vowel(word)}個です。\")"
      ],
      "metadata": {
        "colab": {
          "base_uri": "https://localhost:8080/"
        },
        "id": "od9zJaxbin08",
        "outputId": "84daa687-e5e2-4d28-8332-7fbd93cc944e"
      },
      "execution_count": null,
      "outputs": [
        {
          "output_type": "stream",
          "name": "stdout",
          "text": [
            "['a', 'i', 'u', 'e', 'o', 'a', 'i', 'u', 'e', 'o', 'a', 'i', 'u', 'e', 'o', 'a', 'i', 'u', 'e', 'o', 'a', 'i', 'u', 'e', 'o']\n",
            "Appleの母音数は2個です。\n",
            "Appleの母音数は2個です。\n"
          ]
        }
      ]
    },
    {
      "cell_type": "code",
      "source": [
        "# 総合演習6-特訓 引数で渡された文字列が母音をいくつ含むかを返す関数を作る。\n",
        "# 類題1：小文字の母音の数を数える関数を作りなさい（大文字は含まない）\n",
        "def count_lower_vowel(characters: str) -> int:\n",
        "  lower_vowel_lists = []\n",
        "  vowels = \"aiueo\"\n",
        "  count = 0\n",
        "  for char in characters:\n",
        "    if char in vowels:\n",
        "      count += 1\n",
        "  return count\n",
        "print(count_lower_vowel(\"Apple\"))\n",
        "\n",
        "# 類題2：与えられた文字列に含まれる「母音以外の英字（子音）」の数を数える関数を作りなさい。\n",
        "def count_consonant(characters: str) -> int:\n",
        "  consonant_lists = []\n",
        "  vowels = \"aiueo\"\n",
        "  count = 0\n",
        "  for char in characters:\n",
        "    if char.isalpha() and char.lower() not in vowels:\n",
        "      count += 1\n",
        "  return count\n",
        "print(count_consonant(\"Apple\"))\n",
        "\n",
        "# 類題3：文章中のすべての単語について、各単語に含まれる母音の数を表示しなさい\n",
        "def count_all_vowel(characters: str) -> int:\n",
        "  all_vowel_lists = []\n",
        "  vowels = \"aiueo\"\n",
        "  count = 0\n",
        "  for char in characters.lower():\n",
        "    if char in vowels:\n",
        "      count += 1\n",
        "  return count\n",
        "print(count_all_vowel(\"Apple\"))"
      ],
      "metadata": {
        "colab": {
          "base_uri": "https://localhost:8080/"
        },
        "id": "xWig6vd1xvj8",
        "outputId": "a4c2b104-d662-43c5-85cb-b0519bbf4595"
      },
      "execution_count": null,
      "outputs": [
        {
          "output_type": "stream",
          "name": "stdout",
          "text": [
            "1\n",
            "3\n",
            "2\n"
          ]
        }
      ]
    },
    {
      "cell_type": "code",
      "source": [
        "#総合演習7 名前リストを受け取り、すべて「さん」づけで返す関数を作りましょう。\n",
        "def add_honorific(name_lists: list[str]) -> list[str]:\n",
        "  honorific_name_lists = []\n",
        "  for value in name_lists:\n",
        "    new_value = value + \"さん\"\n",
        "    honorific_name_lists.append(new_value)\n",
        "  return honorific_name_lists\n",
        "\n",
        "example_name_lists = [\"黒柳 徹子\", \"橋下 徹\", \"田中 角栄\"]\n",
        "print(add_honorific(example_name_lists))\n",
        "\n",
        "# 上記のように難しくしなくても、簡潔なコードでできる。「リスト内包表記」\n",
        "def add_h(name_list: list[str]) -> list[str]:\n",
        "  return [name + \"さん\" for name in name_list]\n",
        "\n",
        "example_name_list = [\"黒柳 徹子\", \"橋下 徹\", \"田中 角栄\"]\n",
        "print(add_h(example_name_list))"
      ],
      "metadata": {
        "colab": {
          "base_uri": "https://localhost:8080/"
        },
        "id": "2hyGjSF42ffs",
        "outputId": "2dc001fa-94ee-45ef-8658-649f6bb3595b"
      },
      "execution_count": null,
      "outputs": [
        {
          "output_type": "stream",
          "name": "stdout",
          "text": [
            "['黒柳 徹子さん', '橋下 徹さん', '田中 角栄さん']\n"
          ]
        }
      ]
    },
    {
      "cell_type": "code",
      "source": [
        "#総合演習8 患者の体温をリストで受け取り、発熱者（37.5以上）の人数を返す関数を作りましょう。\n",
        "\n",
        "# 初心者レベルではまずまず。\n",
        "def count_fever_patients(temp: list[float]) -> int:\n",
        "  \"\"\"\n",
        "  受け取った体温のリストから37.5℃以上の発熱者数を数える。\n",
        "  Parameters:\n",
        "      list[int]: 体温のリスト。\n",
        "  Returns:\n",
        "      int: 37.5℃以上の発熱者数。\n",
        "  \"\"\"\n",
        "  count = 0\n",
        "  for t in temp:\n",
        "    if t >= 37.5:\n",
        "      count += 1\n",
        "  return count\n",
        "\n",
        "if __name__ == \"__main__\":\n",
        "  body_temperature = [36.8, 37.2, 38.2, 35.9, 37.7, 38.1, 36.5, 36.6]\n",
        "  print(f\"摂氏37.5度以上の発熱者数は{count_fever_patients(body_temperature)}名です。\")\n",
        "\n",
        "# 開発現場ならこう書く。\n",
        "def count_fever_patients(temp: list[float]) -> int:\n",
        "  \"\"\"\n",
        "  受け取った体温のリストから37.5℃以上の発熱者数を数える。\n",
        "  Parameters:\n",
        "      temp(list[float]): 被験者の体温リスト。 //引数名も入れる。\n",
        "  Returns:\n",
        "      int: 発熱(37.5℃以上)とみなされる人数。\n",
        "  \"\"\"\n",
        "  return sum(1 for t in temp if t >= 37.5) # count+=1よりも「リスト内容表記＋sum(1 」\n",
        "\n",
        "if __name__ == \"__main__\":\n",
        "  body_temperature = [36.8, 37.2, 38.2, 35.9, 37.7, 38.1, 36.5, 36.6]\n",
        "  print(f\"摂氏37.5度以上の発熱者数は{count_fever_patients(body_temperature)}名です。\")"
      ],
      "metadata": {
        "colab": {
          "base_uri": "https://localhost:8080/"
        },
        "id": "chxd_BDlXnVM",
        "outputId": "ead5660d-a51e-4828-d4cf-e39d0f7cac7f"
      },
      "execution_count": null,
      "outputs": [
        {
          "output_type": "stream",
          "name": "stdout",
          "text": [
            "摂氏37.5度以上の発熱者数は3名です。\n"
          ]
        }
      ]
    },
    {
      "cell_type": "code",
      "source": [
        "# 総合演習9 医療従事者の勤務時間（リスト）を受け取り、合計勤務時間を返す関数を作りましょう。\n",
        "\n",
        "# 初心者としては合格\n",
        "def sum_working_hours(working_hours: list[float]) -> float:\n",
        "  total = 0\n",
        "  for t in working_hours:\n",
        "    total += t\n",
        "  return total\n",
        "\n",
        "if __name__ == \"__main__\":\n",
        "  working_hours_week37 = [8.5, 9.5, 8.0, 8.1, 15.5]\n",
        "  print(sum_working_hours(working_hours_week37))\n",
        "\n",
        "# 開発現場ならこう書く。\n",
        "def get_total_working_hours(working_hours: list[float]) -> float:\n",
        "  return sum(working_hours)  # return sum(t for t in working_hours) よりも短くできる!!\n",
        "\n",
        "if __name__ == \"__main__\":\n",
        "  working_hours_week37 = [8.5, 9.5, 8.0, 8.1, 15.5]\n",
        "  total_hours = get_total_working_hours(working_hours_week37)\n",
        "  print(f\"37週の合計勤務：{total_hours}時間\")"
      ],
      "metadata": {
        "colab": {
          "base_uri": "https://localhost:8080/"
        },
        "id": "8-HVjfaGDLMi",
        "outputId": "fda45825-100a-47ed-f84b-ebde3eace1ac"
      },
      "execution_count": null,
      "outputs": [
        {
          "output_type": "stream",
          "name": "stdout",
          "text": [
            "49.6\n",
            "37週の合計勤務：49.6時間\n"
          ]
        }
      ]
    },
    {
      "cell_type": "code",
      "source": [
        "# 総合演習10 患者の年齢リストを受け取り、成人（20歳以上）と未成年を分けて返す関数を作りましょう。\n",
        "def is_adult(ages: dictionary{str:int}) -> dictionary{str:int}: # 型は「 dict[str, int] 」\n",
        "  adult_lists = {}\n",
        "  minor_lists = {}\n",
        "  for value in ages:  # for key, value in ages.items(): でキーと値を療法取得\n",
        "    if age >= 20:     # この場合だと if value >= 20:\n",
        "      adult_lists[key] = value\n",
        "    else:\n",
        "      minor_lists[key] = value\n",
        "  return\n",
        "\n",
        "# 2つの戻り値の返し方が分からず中断。正解は下記。"
      ],
      "metadata": {
        "id": "s1GNt7wReOdQ"
      },
      "execution_count": null,
      "outputs": []
    },
    {
      "cell_type": "code",
      "source": [
        "# 上記問題の模範解答\n",
        "def separate_adults(ages: dict[str, int]) -> tuple[dict[str, int], dict[str, int]]:\n",
        "  \"\"\"\n",
        "  患者の年齢辞書を受け取り、成人(20歳以上)と未成年に分けて返す。\n",
        "  Parameters:\n",
        "      ages(dict[str, int]): 名前をキー、年齢を値とする辞書\n",
        "  Returns:\n",
        "      tuple: (成人の辞書, 未成年の辞書)\n",
        "  \"\"\"\n",
        "  adult_dict = {}\n",
        "  minor_dict = {}\n",
        "  for name, age in ages.items():\n",
        "    if age >= 20:\n",
        "      adult_dict[name] = age\n",
        "    else:\n",
        "      minor_dict[name] = age\n",
        "  return adult_dict, minor_dict # 「return a, b」 は(a, b)というタプルに自動変換される。\n",
        "\n",
        "if __name__ == \"__main__\":\n",
        "  patient_ages = {\n",
        "      \"大石さなえ\":14,\n",
        "      \"石井はるか\":29,\n",
        "      \"赤坂ともえ\":65,\n",
        "      \"岡田あつこ\":37,\n",
        "      \"赤城みつこ\":60,\n",
        "      \"大島ゆうか\":16\n",
        "    }\n",
        "adults, minors = separate_adults(patient_ages) # 関数の呼び出しで「a, b = 関数()」で複数の変数に分けて値を取り出す。\n",
        "print(\"成人：\", adults)\n",
        "print(\"未成年：\", minors)"
      ],
      "metadata": {
        "colab": {
          "base_uri": "https://localhost:8080/"
        },
        "id": "p90nA_hlmdw1",
        "outputId": "8c17d57d-95c6-42f0-b60b-d6b13392ec82"
      },
      "execution_count": null,
      "outputs": [
        {
          "output_type": "stream",
          "name": "stdout",
          "text": [
            "成人： {'石井はるか': 29, '赤坂ともえ': 65, '岡田あつこ': 37, '赤城みつこ': 60}\n",
            "未成年： {'大石さなえ': 14, '大島ゆうか': 16}\n"
          ]
        }
      ]
    },
    {
      "cell_type": "code",
      "source": [
        "# 下記問題を解くための演習(ステップごと。)\n",
        "# 実践5\n",
        "# 生徒のユーザー名をキー、点数を値とする辞書を渡したら最高点のユーザー名と点数(tuple)を1度に返す関数を作成してください。そしてその結果を受け取ってprint(f)してください。"
      ],
      "metadata": {
        "id": "1InbSLrGohiQ"
      },
      "execution_count": null,
      "outputs": []
    },
    {
      "cell_type": "code",
      "source": [
        "# 実践5 - step1\n",
        "# 与えられた辞書のキーと値を1つずつ表示する関数を作ってください。\n",
        "def get_key_value(scores: dict[str, int]) -> None:\n",
        "  for key, value in scores.items():\n",
        "    print(key,value)\n",
        "\n",
        "text_scores = {\"student1\": 83, \"student2\": 99, \"student3\": 100, \"student4\": 100}\n",
        "get_key_value(text_scores)"
      ],
      "metadata": {
        "colab": {
          "base_uri": "https://localhost:8080/"
        },
        "id": "NLXsOWu_osjn",
        "outputId": "9ad6239b-c2ab-4fa6-bd14-eebeb691d403"
      },
      "execution_count": 8,
      "outputs": [
        {
          "output_type": "stream",
          "name": "stdout",
          "text": [
            "student1 83\n",
            "student2 99\n",
            "student3 100\n",
            "student4 100\n"
          ]
        }
      ]
    },
    {
      "cell_type": "code",
      "source": [
        "# 実践5 - step1の補足\n",
        "# 関数でprint()で終わるときは -> None =「表示はするけど値は返さない」の意味\n",
        "\n",
        "def show_score():        # -> None 型（何も返していない）\n",
        "    print(100)\n",
        "\n",
        "def get_score():         # -> int 型（値を返している）\n",
        "    return 100\n",
        "\n",
        "# 呼び出し側\n",
        "a = show_score()   # 100と表示されるが、aには None が入る\n",
        "b = get_score()    # 何も表示されないが、bには 100 が入る\n",
        "\n",
        "print(f\"a = {a}\")  # a = None\n",
        "print(f\"b = {b}\")  # b = 100"
      ],
      "metadata": {
        "colab": {
          "base_uri": "https://localhost:8080/"
        },
        "id": "t3N4CVcjrnqh",
        "outputId": "463abaec-2ac2-42ee-b9f0-ee20929fe75b"
      },
      "execution_count": 9,
      "outputs": [
        {
          "output_type": "stream",
          "name": "stdout",
          "text": [
            "100\n",
            "a = None\n",
            "b = 100\n"
          ]
        }
      ]
    },
    {
      "cell_type": "code",
      "source": [
        "# 実践5 - step2\n",
        "# 最高点だけを取り出す関数を作る。\n",
        "def get_highest_score(scores: dict[str, int]) -> int:\n",
        "  return max(scores.values())\n",
        "\n",
        "test_scores = {\"student1\": 83, \"student2\": 99, \"student3\": 100, \"student4\": 100}\n",
        "get_highest_score(test_scores)"
      ],
      "metadata": {
        "colab": {
          "base_uri": "https://localhost:8080/"
        },
        "id": "FulGNTy1snVQ",
        "outputId": "8d80f0cc-6fe4-4b95-858e-34eadb08501b"
      },
      "execution_count": 13,
      "outputs": [
        {
          "output_type": "execute_result",
          "data": {
            "text/plain": [
              "100"
            ]
          },
          "metadata": {},
          "execution_count": 13
        }
      ]
    },
    {
      "cell_type": "code",
      "source": [
        "# 実践5 - step3\n",
        "# 最高点を取ったユーザー名（student3 と student4） を取り出してください。\n",
        "def get_highest_scorers(scores: dict[str, int]) -> list[str]:\n",
        "  highest_score = max(scores.values())\n",
        "  top_scorers = []\n",
        "  for user, score in scores.items():\n",
        "    if score == highest_score:\n",
        "      top_scorers.append(user)\n",
        "  return top_scorers\n",
        "\n",
        "test_scores = {\"student1\": 83, \"student2\": 99, \"student3\": 100, \"student4\": 100}\n",
        "get_highest_scorers(test_scores)"
      ],
      "metadata": {
        "colab": {
          "base_uri": "https://localhost:8080/"
        },
        "id": "MQ1RwkKbuKbs",
        "outputId": "0850bd6f-f648-4c7a-f92a-d372943928e5"
      },
      "execution_count": 17,
      "outputs": [
        {
          "output_type": "execute_result",
          "data": {
            "text/plain": [
              "['student3', 'student4']"
            ]
          },
          "metadata": {},
          "execution_count": 17
        }
      ]
    },
    {
      "cell_type": "code",
      "source": [
        "# 実践5 - step3 不明点の復習\n",
        "\n",
        "def get_score(scores: dict[str, int]) -> list[int]:\n",
        "  return scores.values()\n",
        "\n",
        "def get_highest_score(scores: dict[str, int]) -> int:\n",
        "  return max(scores.values())\n",
        "\n",
        "test_scores = {\"student1\": 83, \"student2\": 99, \"student3\": 100, \"student4\": 100}\n",
        "print(get_score(test_scores))\n",
        "print(get_highest_score(test_scores))"
      ],
      "metadata": {
        "colab": {
          "base_uri": "https://localhost:8080/"
        },
        "id": "vjoTJeX_x93j",
        "outputId": "91fddea4-397a-4a60-ecd6-042001d7ec13"
      },
      "execution_count": 34,
      "outputs": [
        {
          "output_type": "stream",
          "name": "stdout",
          "text": [
            "dict_values([83, 99, 100, 100])\n",
            "100\n"
          ]
        }
      ]
    },
    {
      "cell_type": "code",
      "source": [
        "# 実践5 - step4\n",
        "# 最高点を取ったユーザー名をリストで返す関数を作る\n",
        "\n",
        "def get_top_scorers(scores: dict[str, int]) -> list[str]:\n",
        "  top_students = []\n",
        "  highest = max(scores.values())\n",
        "  for key, value in scores.items():\n",
        "    if value == highest:\n",
        "      top_students.append(key)\n",
        "  return top_students\n",
        "\n",
        "scores = {\"student1\": 83, \"student2\": 99, \"student3\": 100, \"student4\": 100}\n",
        "print(get_top_scorers(scores))"
      ],
      "metadata": {
        "colab": {
          "base_uri": "https://localhost:8080/"
        },
        "id": "JyfKSz9J1MsQ",
        "outputId": "de9bcf57-dbf2-4760-c618-6c996af65974"
      },
      "execution_count": 35,
      "outputs": [
        {
          "output_type": "stream",
          "name": "stdout",
          "text": [
            "['student3', 'student4']\n"
          ]
        }
      ]
    },
    {
      "cell_type": "code",
      "source": [
        "# 実践5 - step5\n",
        "# 最高点とそのユーザー名の両方を返す関数を作る\n",
        "def get_score_and_top_students(scores: dict[str, int]) -> tuple[int, list[str]]:\n",
        "  top_students = []\n",
        "  highest = max(scores.values())\n",
        "  for key, value in scores.items():\n",
        "    if value == highest:\n",
        "      top_students.append(key)\n",
        "  return (highest, top_students)\n",
        "\n",
        "scores = {\"student1\": 83, \"student2\": 99, \"student3\": 100, \"student4\": 100}\n",
        "result = get_score_and_top_students(scores)\n",
        "print(result)"
      ],
      "metadata": {
        "colab": {
          "base_uri": "https://localhost:8080/"
        },
        "id": "k2izUArk3Jy9",
        "outputId": "ac8e628f-ea79-45f5-f5e1-692f6d6b4b75"
      },
      "execution_count": 36,
      "outputs": [
        {
          "output_type": "stream",
          "name": "stdout",
          "text": [
            "(100, ['student3', 'student4'])\n"
          ]
        }
      ]
    },
    {
      "cell_type": "code",
      "source": [
        "# 実践5 - 類題\n",
        "# 生徒の名前と点数が入った辞書を受け取り、最低点（lowest score）とその点数を取った生徒のリストを返す関数を作ってください。\n",
        "# 返り値は (最低点, 生徒名リスト) のタプルにしてください。\n",
        "def get_lowest_score(scores: dict[str, int]) -> tuple[int, list[str]]:\n",
        "  lowest_students = []\n",
        "  lowest_score = min(scores.values())\n",
        "  for key, value in scores.items():\n",
        "    if value == lowest_score:\n",
        "      lowest_students.append(key)\n",
        "  return (lowest_score, lowest_students)\n",
        "\n",
        "test_scores = {\"student1\": 83, \"student2\": 99, \"student3\": 83, \"student4\": 100}\n",
        "result = get_lowest_score(test_scores)\n",
        "print(result)"
      ],
      "metadata": {
        "colab": {
          "base_uri": "https://localhost:8080/"
        },
        "id": "JewjHTin_t1L",
        "outputId": "e7abee4f-c236-4f86-f5f5-05ae7374ae8b"
      },
      "execution_count": 42,
      "outputs": [
        {
          "output_type": "stream",
          "name": "stdout",
          "text": [
            "(83, ['student1', 'student3'])\n"
          ]
        }
      ]
    },
    {
      "cell_type": "code",
      "source": [
        "# 実践6(応用) - step1\n",
        "# 次の関数を作ってみてください（※戻り値も1つでOKです）：\n",
        "# 引数を1つだけ持つ関数 greet を作りましょう。\n",
        "# 引数の名前は name とします。\n",
        "# name が指定されなかったら \"ゲスト\" という名前であいさつを表示するようにしてください。\n",
        "# print(\"こんにちは、◯◯さん！\")\n",
        "\n",
        "def greet(name=\"ゲスト\") -> None:\n",
        "  print(f\"こんにちは、{name}さん！\")\n",
        "\n",
        "greet(\"潤\")\n",
        "greet()"
      ],
      "metadata": {
        "colab": {
          "base_uri": "https://localhost:8080/"
        },
        "id": "D2zqc3alTmvc",
        "outputId": "b4aeca07-f13e-4d5b-b0c5-d4d59c4bffe9"
      },
      "execution_count": 49,
      "outputs": [
        {
          "output_type": "stream",
          "name": "stdout",
          "text": [
            "こんにちは、潤さん！\n",
            "こんにちは、ゲストさん！\n"
          ]
        }
      ]
    },
    {
      "cell_type": "code",
      "source": [
        "# 実践6(応用) - step2\n",
        "\n",
        "def calculate_result(num1, num2, operation=\"add\"):\n",
        "  if operation == \"add\":\n",
        "    return num1 + num2\n",
        "  elif operation == \"sub\":\n",
        "    return num1 - num2\n",
        "  elif operation == \"mul\":\n",
        "    return num1 * num2\n",
        "  elif operation == \"div\":\n",
        "    if num2 == 0:\n",
        "      return \"ゼロで割ることはできません。\"\n",
        "    return num1 / num2\n",
        "  else:\n",
        "    return \"無効な演算です。\"\n",
        "\n",
        "print(calculate_result(10, 5))  # add（デフォルト）\n",
        "print(calculate_result(10, 5, \"sub\"))\n",
        "print(calculate_result(10, 5, \"mul\"))\n",
        "print(calculate_result(10, 5, \"div\"))\n",
        "print(calculate_result(10, 0, \"div\"))  # 0で割る\n",
        "print(calculate_result(10, 5, \"pow\"))"
      ],
      "metadata": {
        "colab": {
          "base_uri": "https://localhost:8080/"
        },
        "id": "5ZVNUvcaU6xL",
        "outputId": "7f833f76-688b-4124-ffa9-65d3031c2c75"
      },
      "execution_count": 50,
      "outputs": [
        {
          "output_type": "stream",
          "name": "stdout",
          "text": [
            "15\n",
            "5\n",
            "50\n",
            "2.0\n",
            "ゼロで割ることはできません。\n",
            "無効な演算です。\n"
          ]
        }
      ]
    },
    {
      "cell_type": "code",
      "source": [
        "# 実践7 - step1\n",
        "# 問題: 文字列の置換と長さの取得　(replace関数)\n",
        "# 文字列 \"banana\" の \"a\" を \"o\" に置き換える方法\n",
        "def replace_only(original_str: str, old_char: str, new_char: str) -> str:\n",
        "  replaced = original_str.replace(old_char, new_char)\n",
        "  return replaced\n",
        "result = replace_only(\"banana\", \"a\", \"o\")\n",
        "print(result)"
      ],
      "metadata": {
        "colab": {
          "base_uri": "https://localhost:8080/"
        },
        "id": "9LcvTHCaf0ph",
        "outputId": "4f0b9116-17e7-47e9-cee5-46e218996cc5"
      },
      "execution_count": 51,
      "outputs": [
        {
          "output_type": "stream",
          "name": "stdout",
          "text": [
            "bonono\n"
          ]
        }
      ]
    },
    {
      "cell_type": "code",
      "source": [
        "# 実践7 - step2\n",
        "# 置換したあとの文字列の「長さ（文字数）」を調べる\n",
        "print(len(result))\n",
        "len(\"bonon\")"
      ],
      "metadata": {
        "colab": {
          "base_uri": "https://localhost:8080/"
        },
        "id": "zGsMGlZagk94",
        "outputId": "9bfaf7da-a21d-4dc3-965f-02a52f5f1c13"
      },
      "execution_count": 56,
      "outputs": [
        {
          "output_type": "stream",
          "name": "stdout",
          "text": [
            "6\n"
          ]
        },
        {
          "output_type": "execute_result",
          "data": {
            "text/plain": [
              "5"
            ]
          },
          "metadata": {},
          "execution_count": 56
        }
      ]
    },
    {
      "cell_type": "code",
      "source": [
        "# 実践7 - step3\n",
        "# 置換したあとの文字列とその長さを一緒に返す関数を作る\n",
        "def modify_string(original_str: str, old_char: str, new_char: str) -> tuple[str, int]:\n",
        "   replaced = original_str.replace(old_char, new_char)\n",
        "   length = len(replaced)\n",
        "   return (replaced, length)\n",
        "\n",
        "result = modify_string(\"banana\", \"a\", \"o\")\n",
        "print(result)  # 結果: ('bonono', 6)"
      ],
      "metadata": {
        "colab": {
          "base_uri": "https://localhost:8080/"
        },
        "id": "7u0T27uHhFoo",
        "outputId": "1dc98243-bc73-41ee-9e65-10714090e796"
      },
      "execution_count": 57,
      "outputs": [
        {
          "output_type": "stream",
          "name": "stdout",
          "text": [
            "('bonono', 6)\n"
          ]
        }
      ]
    }
  ]
}