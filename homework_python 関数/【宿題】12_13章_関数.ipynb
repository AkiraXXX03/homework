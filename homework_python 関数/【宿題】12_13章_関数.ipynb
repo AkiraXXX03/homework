{
  "nbformat": 4,
  "nbformat_minor": 0,
  "metadata": {
    "colab": {
      "provenance": []
    },
    "kernelspec": {
      "name": "python3",
      "display_name": "Python 3"
    },
    "language_info": {
      "name": "python"
    }
  },
  "cells": [
    {
      "cell_type": "code",
      "execution_count": null,
      "metadata": {
        "colab": {
          "base_uri": "https://localhost:8080/"
        },
        "id": "UNNRi1KPFuki",
        "outputId": "f81fbfd5-65e9-4956-c8e9-5239ad458c5f"
      },
      "outputs": [
        {
          "output_type": "stream",
          "name": "stdout",
          "text": [
            "①[1, 2, 3, 4, 5, 6, 7, 8, 9, 10]から偶数のみ抽出したリスト：[2, 4, 6, 8, 10]。※関数はfor文とif文を使用。\n",
            "②[1, 2, 3, 4, 5, 6, 7, 8, 9, 10]から偶数のみ抽出したリスト：[2, 4, 6, 8, 10]。※関数はリスト内包表記を使用。\n"
          ]
        }
      ],
      "source": [
        "# 実践1\n",
        "# 引数として与えられたリストから、偶数のみを抽出する関数を作成してください。\n",
        "\n",
        "# ①for文とif文を使用したバージョン\n",
        "def extract_even(numbers: list[int]) -> list[int]:\n",
        "  \"\"\"\n",
        "  与えられた数字のリストから偶数を抽出したリストを作成する。\n",
        "  Parameters:\n",
        "      numbers: list[int]: 与えられた整数のリスト\n",
        "  Returns:\n",
        "      list[int]: 抽出した偶数のリスト\n",
        "  \"\"\"\n",
        "  even_lists = []\n",
        "  for n in numbers:\n",
        "    if n % 2 == 0:\n",
        "      even_lists.append(n)\n",
        "  return even_lists\n",
        "\n",
        "if __name__ == \"__main__\":\n",
        "  example_number_lists = [1, 2, 3, 4, 5, 6, 7, 8, 9, 10]\n",
        "  evens = extract_even(example_number_lists)\n",
        "  print(f\"①{example_number_lists}から偶数のみ抽出したリスト：{evens}。※関数はfor文とif文を使用。\")\n",
        "\n",
        "# ② リスト内包表記のコード\n",
        "def extract_even(numbers: list[int]) -> list[int]:\n",
        "  \"\"\"\n",
        "  ①と同じため省略\n",
        "  \"\"\"\n",
        "  return [n for n in numbers if n % 2 == 0]\n",
        "\n",
        "if __name__ == \"__main__\":\n",
        "  example_number_lists = [1, 2, 3, 4, 5, 6, 7, 8, 9, 10]\n",
        "  evens = extract_even(example_number_lists)\n",
        "  print(f\"②{example_number_lists}から偶数のみ抽出したリスト：{evens}。※関数はリスト内包表記を使用。\")"
      ]
    },
    {
      "cell_type": "code",
      "source": [
        "# 実践2\n",
        "# 辞書の値に対して、その値が10以上の場合は'large'、5以上10未満の場合は'medium'、5未満の場合は'small'と返す関数を作成してください。\n",
        "def classify_by_leukocyte_number(leukocyte_numbers: dict[str, float]) -> dict[str, str]:\n",
        "  \"\"\"\n",
        "  与えられた辞書の値に対して、値が10以上の場合は'large'、5以上10未満の場合は'medium'、5未満の場合は'small'と返す関数を作成\n",
        "  Parameters:\n",
        "      leukocyte_numbers: dict[str, float]: 患者名とその白血球数の検査結果の辞書\n",
        "  Returns:\n",
        "      dict[str, str]: 白血球数値によって「large」「medium」「small」を判定した辞書\n",
        "  \"\"\"\n",
        "  classified_dict = {}\n",
        "  for name, number in leukocyte_numbers.items():\n",
        "    if number >= 10:\n",
        "      classified_dict[name] = \"large\"\n",
        "    elif number < 5:\n",
        "      classified_dict[name] = \"small\"\n",
        "    else:\n",
        "      classified_dict[name] = \"medium\"\n",
        "  return classified_dict\n",
        "\n",
        "if __name__ == \"__main__\":\n",
        "  sample_dict = {\"patient1\": 11.8, \"patient2\": 3.6, \"patient3\": 7.9, \"patient4\": 3.9, \"patient5\": 10.6}\n",
        "  classified_result = classify_by_leukocyte_number(sample_dict)\n",
        "  print(classified_result)"
      ],
      "metadata": {
        "colab": {
          "base_uri": "https://localhost:8080/"
        },
        "id": "-KP_i_ySz4YP",
        "outputId": "7b713156-a1de-4306-d465-2b1601e85c2c"
      },
      "execution_count": null,
      "outputs": [
        {
          "output_type": "stream",
          "name": "stdout",
          "text": [
            "{'patient1': 'large', 'patient2': 'small', 'patient3': 'medium', 'patient4': 'small', 'patient5': 'large'}\n"
          ]
        }
      ]
    },
    {
      "cell_type": "code",
      "source": [
        "# 実践3\n",
        "# 整数のリストと整数の閾値を引数として受け取り、リスト内の要素がその閾値以上の場合は'True'、そうでない場合は'False'を返すリストを作成する関数を作成してください。\n",
        "\n",
        "def fever_patient(fever_chart: list[float], threshold: float) -> list[bool]:\n",
        "  \"\"\"\n",
        "  検温リストから発熱者か否かを判定するリストを作成\n",
        "  Parameters:\n",
        "      fever_chart: list[float], threshold: float: 検温リストと発熱基準値。\n",
        "  Returns:\n",
        "      list[bool]: 発熱基準値を超えているか否かのTrue/Falseで判断したものをリストで返す。\n",
        "  \"\"\"\n",
        "  fever_judgement = []\n",
        "  for temp in fever_chart:\n",
        "    if temp >= threshold:\n",
        "      fever_judgement.append(True) # Trueをリストに追加する方法が分からずChat GPTで調べました。\n",
        "    else:\n",
        "      fever_judgement.append(False)\n",
        "  return fever_judgement\n",
        "\n",
        "if __name__ == \"__main__\":\n",
        "  sample_chart = [36.8, 39.2, 37.5, 37.6, 36.9, 37.5, 38.0]\n",
        "  judgement_result = fever_patient(sample_chart, 37.5)\n",
        "  print(judgement_result)"
      ],
      "metadata": {
        "colab": {
          "base_uri": "https://localhost:8080/"
        },
        "id": "hwxedo0R9t_p",
        "outputId": "712e6652-d7d8-4a89-cc2b-2f2e63b812d2"
      },
      "execution_count": null,
      "outputs": [
        {
          "output_type": "stream",
          "name": "stdout",
          "text": [
            "[False, True, True, True, False, True, True]\n"
          ]
        }
      ]
    },
    {
      "cell_type": "code",
      "source": [
        "# 実践4（一部応用）\n",
        "# 2つのリストを受け取り、それらの共通する要素のみを含む新しいリストを返す関数を作成してください。\n",
        "# ヒント: ある値がとあるリストに格納されているかは、 if varA in List のような記法で実現できます。\n",
        "from typing import List\n",
        "\n",
        "def check_common_symptoms(symptoms1: List[str], symptoms2: List[str]) -> List[str]:\n",
        "  \"\"\"\n",
        "  2つの病気の各症状リストから共通症状を抽出してリストを作成する。\n",
        "  Parameters:\n",
        "      symptoms1: List[str], symptoms2: List[str]: 2つの病気の各症状名のリスト。\n",
        "  Returns:\n",
        "      List[str]: 共通症状のリスト\n",
        "  \"\"\"\n",
        "  commom_symptoms_list = []\n",
        "  for symptom in symptoms1:\n",
        "    if symptom in symptoms2:\n",
        "      commom_symptoms_list.append(symptom)\n",
        "  return commom_symptoms_list\n",
        "\n",
        "if __name__ == \"__main__\":\n",
        "  gastric_ulcer = [\"無症状\", \"心窩部痛\", \"上腹部痛\", \"胸やけ\", \"げっぷ\", \"下血\", \"穿孔\", \"吐血\"]\n",
        "  duodenal_ulcer = [\"心窩部痛\", \"穿孔\", \"突発性心窩部激痛\", \"上腹部痛\", \"胸やけ\", \"げっぷ\", \"下血\", \"吐血\", ]\n",
        "  commom_symptoms = check_common_symptoms(gastric_ulcer, duodenal_ulcer)\n",
        "  print(\"胃潰瘍と十二指腸潰瘍に\")\n",
        "  print(f\"共通する症状は{commom_symptoms}です。\")\n",
        "\n",
        "\n",
        "# 応用編（共通しない症状も明記するバージョン）\n",
        "def check_common_symptoms(symptoms1: List[str], symptoms2: List[str]) -> tuple[List[str], List[str], List[str]]:\n",
        "  \"\"\"\n",
        "  2つの病気の各症状リストから、共通症状と共通しない症状を抽出してそれぞれのリストを作成する。\n",
        "  Parameters:\n",
        "      symptoms1: List[str], symptoms2: List[str]: 2つの病気の各症状名のリスト。\n",
        "  Returns:\n",
        "      tuple[List[str], List[str], List[str]]: 共通症状のリスト、病気1のみの症状リスト、病気2のみの症状リストをtupleで取り出す。\n",
        "  \"\"\"\n",
        "  commom_symptoms_list = []\n",
        "  only_symptoms1_list = []\n",
        "  only_symptoms2_list = []\n",
        "\n",
        "  # 共通症状と症状1のみの症状を判定し各リストに入れる\n",
        "  for symptom in symptoms1:\n",
        "    if symptom in symptoms2:\n",
        "      commom_symptoms_list.append(symptom)\n",
        "    else:\n",
        "      only_symptoms1_list.append(symptom)\n",
        "\n",
        "  # 症状2のみの症状を判定しリストに入れる\n",
        "  for symptom in symptoms2:\n",
        "    if symptom not in symptoms1:\n",
        "      only_symptoms2_list.append(symptom)\n",
        "\n",
        "  return commom_symptoms_list, only_symptoms1_list, only_symptoms2_list\n",
        "\n",
        "if __name__ == \"__main__\":\n",
        "  gastric_ulcer = [\"無症状\", \"心窩部痛\", \"上腹部痛\", \"胸やけ\", \"げっぷ\", \"下血\", \"穿孔\", \"吐血\"]\n",
        "  duodenal_ulcer = [\"心窩部痛\", \"穿孔\", \"突発性心窩部激痛\", \"上腹部痛\", \"胸やけ\", \"げっぷ\", \"下血\", \"吐血\"]\n",
        "  commom_symptoms, only_symptoms1, only_symptoms2 = check_common_symptoms(gastric_ulcer, duodenal_ulcer)\n",
        "\n",
        "  # print(f\"胃潰瘍と十二指腸潰瘍に共通する症状は{commom_symptoms}です。\")\n",
        "  print(f\"胃潰瘍のみの症状は{only_symptoms1}です。\")\n",
        "  print(f\"十二指腸潰瘍のみの症状は{only_symptoms2}です。\")"
      ],
      "metadata": {
        "colab": {
          "base_uri": "https://localhost:8080/"
        },
        "id": "lenfi4YLEqSX",
        "outputId": "fd76c961-b7f8-414c-86b9-f77973db9df1"
      },
      "execution_count": null,
      "outputs": [
        {
          "output_type": "stream",
          "name": "stdout",
          "text": [
            "胃潰瘍と十二指腸潰瘍に\n",
            "共通する症状は['心窩部痛', '上腹部痛', '胸やけ', 'げっぷ', '下血', '穿孔', '吐血']です。\n",
            "胃潰瘍のみの症状は['無症状']です。\n",
            "十二指腸潰瘍のみの症状は['突発性心窩部激痛']です。\n"
          ]
        }
      ]
    },
    {
      "cell_type": "code",
      "source": [
        "# 実践5:  解けなかったのでChat GPTに段階的に教えてもらいました。\n",
        "# 生徒のユーザー名をキー、点数を値とする辞書を渡したら最高点のユーザー名と点数(tuple)を1度に返す関数を作成してください。そしてその結果を受け取ってprint(f)してください。\n",
        "from typing import List\n",
        "\n",
        "def find_highest_score(scores: dict[str, int]) -> tuple[int, List[str]]:\n",
        "  \"\"\"\n",
        "  生徒名をキー、点数を値とする辞書から最高点数とその生徒名をtupleで1度に返す関数。\n",
        "  Parameters:\n",
        "      scores: dict[str, int]: 生徒名と点数の辞書。\n",
        "  Returns:\n",
        "      tuple[int, list[str]]:　最高得点とその生徒名(複数いる場合があるのでリストで返す)。\n",
        "  \"\"\"\n",
        "  highest_students = []\n",
        "  highest_score = max(scores.values())\n",
        "  for key, value in scores.items():\n",
        "    if value == highest_score:\n",
        "      highest_students.append(key)\n",
        "  return (highest_score, highest_students)\n",
        "\n",
        "if __name__ == \"__main__\":\n",
        "  sample_scores = {\"student1\": 83, \"student2\": 99, \"student3\": 100, \"student4\": 100}\n",
        "  result = find_highest_score(sample_scores)\n",
        "  print(f\"最高得点は{result[0]}点、{result[1]}さんです。\")\n",
        "  print(f\"最高得点は{result[0]}点、{'と'.join([name + 'さん' for name in result[1]])}です。\") # Chat GPT使用"
      ],
      "metadata": {
        "id": "hLxH36ye168m",
        "colab": {
          "base_uri": "https://localhost:8080/"
        },
        "outputId": "52057397-cf30-4210-e877-d3d60f8e192b"
      },
      "execution_count": 22,
      "outputs": [
        {
          "output_type": "stream",
          "name": "stdout",
          "text": [
            "最高得点は100点、['student3', 'student4']さんです。\n",
            "最高得点は100点、student3さんとstudent4さんです。\n"
          ]
        }
      ]
    },
    {
      "cell_type": "code",
      "source": [
        "# 実践6(応用):\n",
        "# 以下のような関数を定義してください。\n",
        "# 関数名: calculate_result\n",
        "# 引数1: num1 (整数)\n",
        "# 引数2: num2 (整数)\n",
        "# 引数3: operation (文字列、デフォルト値は \"add\")。デフォルト値の設定方法は講義外です。実務でデフォルト値は頻繁に利用するので調査してみてください。\n",
        "\n",
        "def calculate_result(num1, num2, operation=\"add\"):\n",
        "  \"\"\"\n",
        "  この関数は以下の処理を行います。\n",
        "  operation の値が \"add\" の場合、num1 と num2 を足した値を返す。\n",
        "  operation の値が \"subtract\" の場合、num1 から num2 を引いた値を返す。\n",
        "  operation の値が \"multiply\" の場合、num1 と num2 を掛けた値を返す。\n",
        "  operation の値が \"divide\" の場合、num1 を num2 で割った値を返す。(num2 が0の場合は \"Cannot divide by zero\" と返す)\n",
        "  operation の値がそれ以外の場合は \"Invalid operation\" と返す。\n",
        "  \"\"\"\n",
        "  if operation == \"add\":\n",
        "    return num1 + num2\n",
        "  elif operation == \"subtract\":\n",
        "    return num1 - num2\n",
        "  elif operation == \"multiply\":\n",
        "    return num1 * num2\n",
        "  elif operation == \"divide\":\n",
        "    if num2 == 0:\n",
        "      return \"Cannot divide by zero\"\n",
        "    return num1 / num2\n",
        "  else:\n",
        "    return \"Invalid operation\"\n",
        "\n",
        "# また、この関数を使って以下の呼び出しを行い、期待される出力を確認してください。\n",
        "print(f\"【結果】 {calculate_result(10, 5)} 【正解】15 (加算のデフォルト動作)\")\n",
        "print(f\"【結果】 {calculate_result(10, 5, 'subtract')} 【正解】 5   (減算)\")\n",
        "print(f\"【結果】 {calculate_result(10, 5, 'multiply')} 【正解】 50  (乗算)\")\n",
        "print(f\"【結果】 {calculate_result(10, 2, 'divide')}   【正解】 5.0 (除算)\")\n",
        "print(f\"【結果】 {calculate_result(10, 0, 'divide') }  【正解】 'Cannot divide by zero'\")\n",
        "print(f\"【結果】 {calculate_result(10, 5, 'invalid')}  【正解】 'Invalid operation'\")"
      ],
      "metadata": {
        "colab": {
          "base_uri": "https://localhost:8080/"
        },
        "id": "Z7z6XhQDIdXQ",
        "outputId": "49b5eca9-c03f-4465-f0df-f85b8d64c4fb"
      },
      "execution_count": 38,
      "outputs": [
        {
          "output_type": "stream",
          "name": "stdout",
          "text": [
            "【結果】 15 【正解】15 (加算のデフォルト動作)\n",
            "【結果】 5 【正解】 5   (減算)\n",
            "【結果】 50 【正解】 50  (乗算)\n",
            "【結果】 5.0   【正解】 5.0 (除算)\n",
            "【結果】 Cannot divide by zero  【正解】 'Cannot divide by zero'\n",
            "【結果】 Invalid operation  【正解】 'Invalid operation'\n"
          ]
        }
      ]
    },
    {
      "cell_type": "code",
      "source": [
        "# 実践7\n",
        "# 問題: 文字列の置換と長さの取得\n",
        "\n",
        "def modify_string(original_str: str, old_char: str, new_char: str) -> tuple[str, int]:\n",
        "  \"\"\"\n",
        "  与えられた文字列内の特定の文字を別の文字に置換し、置換後の文字列と文字列の長さを返す関数。\n",
        "  Parameters\n",
        "      original_str (str): 元の文字列\n",
        "      old_char (str): 置換する文字\n",
        "      new_char (str): 置換後の文字\n",
        "  Returns:\n",
        "      tuple[str, int]:　置換後の文字列と文字列の長さをtupleで返す。\n",
        "  \"\"\"\n",
        "  # original_str内のold_charをnew_charに置換した新しい文字列modified_strを作成\n",
        "  modified_str = original_str.replace(old_char, new_char)\n",
        "\n",
        "  # modified_strの長さlengthを取得する\n",
        "  char_length = len(modified_str)\n",
        "\n",
        "  # modify_string関数から、modified_strとlengthの2つの値を返す。\n",
        "  return (modified_str, char_length)\n",
        "\n",
        "# 以下のようにしてmodify_string関数を呼び出し、戻り値を受け取ってください。\n",
        "if __name__ == \"__main__\":\n",
        "  result_str, result_length = modify_string(\"Hello, World!\", \"l\", \"x\")\n",
        "  print(\"置換後の文字列:\", result_str)\n",
        "  print(\"文字列の長さ:\", result_length)"
      ],
      "metadata": {
        "colab": {
          "base_uri": "https://localhost:8080/"
        },
        "id": "JlBfH3LMbznw",
        "outputId": "1a1a3a6d-a5ef-471f-fc85-5b43dc83f624"
      },
      "execution_count": 41,
      "outputs": [
        {
          "output_type": "stream",
          "name": "stdout",
          "text": [
            "置換後の文字列: Hexxo, Worxd!\n",
            "文字列の長さ: 13\n"
          ]
        }
      ]
    }
  ]
}