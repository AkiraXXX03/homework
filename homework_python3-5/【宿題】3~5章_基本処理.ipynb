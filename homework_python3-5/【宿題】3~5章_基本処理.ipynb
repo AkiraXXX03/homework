{
  "nbformat": 4,
  "nbformat_minor": 0,
  "metadata": {
    "colab": {
      "provenance": []
    },
    "kernelspec": {
      "name": "python3",
      "display_name": "Python 3"
    },
    "language_info": {
      "name": "python"
    }
  },
  "cells": [
    {
      "cell_type": "code",
      "execution_count": 8,
      "metadata": {
        "colab": {
          "base_uri": "https://localhost:8080/"
        },
        "id": "08Q2-t_Eifwt",
        "outputId": "033b6b57-b062-4567-a3d7-019a50d32b2d"
      },
      "outputs": [
        {
          "output_type": "stream",
          "name": "stdout",
          "text": [
            "text_1_2\n"
          ]
        }
      ],
      "source": [
        "# 課題後の実践1\n",
        "# 3つの変数を用いて文字列と数値２つを代入する\n",
        "# f-stringを用いてすべてをアンダーバーで結合した結果を出力する\n",
        "\n",
        "string_variable = \"text\"\n",
        "number_one = 1\n",
        "number_two = 2\n",
        "\n",
        "print(f\"{string_variable}_{number_one}_{number_two}\")"
      ]
    },
    {
      "cell_type": "code",
      "source": [
        "# 課題後の実践2\n",
        "# 変数に四則演算の結果を格納する(varA1～VarA5とする, ただし適切な名前に変更すること)\n",
        "# 変数に四則演算の何を実施するか文字列で格納する(varBとする, ただし適切な名前に変更すること)\n",
        "# fを用いて\"加算の結果は40です\"のように出力する。加算や結果の数値は変数で出力すること\n",
        "\n",
        "result1 = 5 + 5\n",
        "result2 = 5 - 5\n",
        "result3 = 5 * 5\n",
        "result4 = 5 / 5\n",
        "result5 = 5 + 5 - 5\n",
        "\n",
        "cal_type = \"加算\"\n",
        "\n",
        "print(f\"{cal_type}の結果は{result1 + result2 + result3 + result4 + result5}です。\")"
      ],
      "metadata": {
        "colab": {
          "base_uri": "https://localhost:8080/"
        },
        "id": "dzqDp95qnnam",
        "outputId": "be04e701-2523-4c51-f44d-9370f70b3f65"
      },
      "execution_count": 7,
      "outputs": [
        {
          "output_type": "stream",
          "name": "stdout",
          "text": [
            "加算の結果は41.0です。\n"
          ]
        }
      ]
    },
    {
      "cell_type": "code",
      "source": [
        "# 課題後の実践3(応用: 自主調査含む)\n",
        "# 変数に浮動小数点数(小数点3桁以上)を代入してください。\n",
        "# fを用いてprintしてください。その際、小数点第二位まで表示するようにしてください。表示方法は調査してください。\n",
        "\n",
        "import random\n",
        "float_num = random.random()\n",
        "print(f\"{float_num:.2f}\")"
      ],
      "metadata": {
        "colab": {
          "base_uri": "https://localhost:8080/"
        },
        "id": "RKGC62NN1bQ-",
        "outputId": "eb741121-8135-4047-f660-5e5c32239086"
      },
      "execution_count": 16,
      "outputs": [
        {
          "output_type": "stream",
          "name": "stdout",
          "text": [
            "0.46\n"
          ]
        }
      ]
    },
    {
      "cell_type": "code",
      "source": [
        "# 課題後の実践4(応用: 自主調査含む)\n",
        "# 変数に整数(1_3桁)を代入してください。このように1~3桁の変数を複数作成してください。\n",
        "# fを用いてprintしてください。その際、5桁まで表示するようにしてください。表示方法は調査してください。\n",
        "\n",
        "float_num1 = random.randint(1,9)\n",
        "float_num2 = random.randint(1,99)\n",
        "float_num3 = random.randint(1,999)\n",
        "\n",
        "print(f\"{float_num1:05d}, {float_num2:05d}, {float_num3:05d}\")"
      ],
      "metadata": {
        "colab": {
          "base_uri": "https://localhost:8080/"
        },
        "id": "mp0idG-U4QW9",
        "outputId": "9743e7e2-cf16-4820-dd35-3620f698fea2"
      },
      "execution_count": 24,
      "outputs": [
        {
          "output_type": "stream",
          "name": "stdout",
          "text": [
            "00008, 00085, 00228\n"
          ]
        }
      ]
    },
    {
      "cell_type": "code",
      "source": [
        "# ①課題後の実践4のうち、複数の変数を自動で派生させる方法が分からなかったので\n",
        "# chat GPTで「for文で変数を複数派生させる方法」を調べ、「辞書変数[f\"変数{i}] = 」と冒頭の「辞書変数 = {}」を使用しています。\n",
        "\n",
        "float_numbers = {}\n",
        "\n",
        "# ランダムな1-3桁の複数の整数を格納する変数を複数派生する。(今回は9個の乱数で止める)\n",
        "for i in range(1,10):\n",
        "  float_numbers[f\"float_number{i}\"] = random.randint(1,9)\n",
        "  float_numbers[f\"float_number{i}\"] = random.randint(1,99)\n",
        "  float_numbers[f\"float_number{i}\"] = random.randint(1,999)\n",
        "\n",
        "for value in float_numbers.values():\n",
        "  print(f\"{value:05d}\")"
      ],
      "metadata": {
        "colab": {
          "base_uri": "https://localhost:8080/"
        },
        "id": "snUvGY_S--yI",
        "outputId": "9358c69a-c066-4d24-d508-194634acdfb9"
      },
      "execution_count": 46,
      "outputs": [
        {
          "output_type": "stream",
          "name": "stdout",
          "text": [
            "00562\n",
            "00278\n",
            "00988\n",
            "00720\n",
            "00674\n",
            "00520\n",
            "00553\n",
            "00944\n",
            "00053\n"
          ]
        }
      ]
    }
  ]
}