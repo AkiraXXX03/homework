{
  "nbformat": 4,
  "nbformat_minor": 0,
  "metadata": {
    "colab": {
      "provenance": []
    },
    "kernelspec": {
      "name": "python3",
      "display_name": "Python 3"
    },
    "language_info": {
      "name": "python"
    }
  },
  "cells": [
    {
      "cell_type": "code",
      "source": [
        "# numpyは使わず手計算で進めてください。"
      ],
      "metadata": {
        "id": "DY_LpU0RQ_ta"
      },
      "execution_count": null,
      "outputs": []
    },
    {
      "cell_type": "code",
      "source": [
        "# 1 ベクトル同士の足し算・引き算\n",
        "# (a) 足し算: u = (2, -3, 5), v = (-1, 4, 1)\n",
        "# u + vを計算せよ。\n",
        "\n",
        "# ベクトルの足し算関数\n",
        "def vector_sum_func(vector1, vector2):\n",
        "  vector_sum_result = []\n",
        "  for i in range(len(vector1)):                  # エラーを直せなかったのでi in range(len(vector1)　はChat GPTに聞きました。\n",
        "    each_element_sum = vector1[i] + vector2[i]\n",
        "    vector_sum_result.append(each_element_sum)\n",
        "  return vector_sum_result\n",
        "\n",
        "# 計算式の説明用関数                             # この関数はChat GPTに聞きました。\n",
        "def explain_calculation(vector1, vector2):\n",
        "  explanation = []\n",
        "  for i in range(len(vector1)):\n",
        "    a = vector1[i]\n",
        "    b = vector2[i]\n",
        "    explanation.append(f\"{a} + {b}\")\n",
        "  join_explanation = \" , \".join(explanation)\n",
        "  return f\"ベクトルの足し算 ({join_explanation})\"\n",
        "\n",
        "u = (2, -3, 5)\n",
        "v = (-1, 4, 1)\n",
        "\n",
        "vector_sum_result = vector_sum_func(u, v)\n",
        "explanation = explain_calculation(u, v)\n",
        "print(f\"{explanation} = {vector_sum_result}\")"
      ],
      "metadata": {
        "colab": {
          "base_uri": "https://localhost:8080/"
        },
        "id": "ptJwbTPZiyAi",
        "outputId": "8ebf0a6c-6929-4178-db57-c1529a01cd2e"
      },
      "execution_count": null,
      "outputs": [
        {
          "output_type": "stream",
          "name": "stdout",
          "text": [
            "ベクトルの足し算 (2 + -1 , -3 + 4 , 5 + 1) = [1, 1, 6]\n"
          ]
        }
      ]
    },
    {
      "cell_type": "code",
      "source": [
        "# 1 ベクトル同士の足し算・引き算\n",
        "# (b) 引き算: x - yを計算せよ。 x = (7, -2, 4), y = (3, 5, -1)\n",
        "\n",
        "def cal_vector_sub(vector1, vector2):\n",
        "  sub_vector = []\n",
        "  for i in range(len(vector1)):\n",
        "    each_sub_element = vector1[i] - vector2[i]\n",
        "    sub_vector.append(each_sub_element)\n",
        "  return sub_vector\n",
        "\n",
        "def explain_calculation(vector1, vector2):\n",
        "  explanation = []\n",
        "  for i in range(len(vector1)):\n",
        "    a = vector1[i]\n",
        "    b = vector2[i]\n",
        "    explanation.append(f\"{a} + {b}\")\n",
        "  join_explanation = \" , \".join(explanation)\n",
        "  return f\"ベクトルの引き算 {vector1} - {vector2} = [ {join_explanation} ]\"\n",
        "\n",
        "x = (7, -2, 4)\n",
        "y = (3, 5, -1)\n",
        "\n",
        "result = cal_vector_sub(x, y)\n",
        "explantion = explain_calculation(x, y)\n",
        "print(f\"{explantion} = {result}\")"
      ],
      "metadata": {
        "id": "DssB9aXWRGBz",
        "colab": {
          "base_uri": "https://localhost:8080/"
        },
        "outputId": "3b3c19db-ab43-4fdf-f305-900a9c5d3174"
      },
      "execution_count": null,
      "outputs": [
        {
          "output_type": "stream",
          "name": "stdout",
          "text": [
            "ベクトルの引き算 (7, -2, 4) - (3, 5, -1) = [ 7 + 3 , -2 + 5 , 4 + -1 ] = [4, -7, 5]\n"
          ]
        }
      ]
    },
    {
      "cell_type": "code",
      "execution_count": null,
      "metadata": {
        "colab": {
          "base_uri": "https://localhost:8080/"
        },
        "id": "-LhZ7qPVQj4r",
        "outputId": "734f03f1-6d79-41ad-df5b-5884d0ad76b4"
      },
      "outputs": [
        {
          "output_type": "stream",
          "name": "stdout",
          "text": [
            "■内積 2*(-1) + (-3)*4 + 5*1 = -9\n",
            "関数の計算結果：-9 正解です。\n"
          ]
        }
      ],
      "source": [
        "# 1 ベクトル同士の足し算・引き算\n",
        "# (a) 足し算: u = (2, -3, 5), v = (-1, 4, 1)\n",
        "# u + vを計算せよ。\n",
        "\n",
        "# ①内積\n",
        "def inner_product(vector1, vector2):\n",
        "  total = 0                            # エラーを直せなかったのでChat GPTに聞きました。\n",
        "  for i in range(len(vector1)):\n",
        "    mul = vector1[i] * vector2[i]\n",
        "    total += mul\n",
        "  return total\n",
        "\n",
        "u = (2, -3, 5)\n",
        "v = (-1, 4, 1)\n",
        "\n",
        "# 内積を算出\n",
        "inner_product_result = inner_product(u, v)\n",
        "\n",
        "# 関数が意図した結果を算出できたか確認するためのベタ打ち計算\n",
        "sum_u_v = 2*(-1) + (-3)*4 + 5*1\n",
        "\n",
        "print(f\"■内積 2*(-1) + (-3)*4 + 5*1 = {sum_u_v}\")\n",
        "\n",
        "if inner_product_result == sum_u_v:\n",
        "  print(f\"関数の計算結果：{inner_product_result} 正解です。\")\n",
        "else:\n",
        "  print(f\"関数の計算結果：{inner_product_result} 不正解です。\")\n",
        "\n",
        "# ②行列積\n",
        "def matrix_product(vector1, vector2):\n"
      ]
    }
  ]
}