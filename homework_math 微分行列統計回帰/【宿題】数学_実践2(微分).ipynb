{
  "nbformat": 4,
  "nbformat_minor": 0,
  "metadata": {
    "colab": {
      "provenance": []
    },
    "kernelspec": {
      "name": "python3",
      "display_name": "Python 3"
    },
    "language_info": {
      "name": "python"
    }
  },
  "cells": [
    {
      "cell_type": "code",
      "execution_count": 27,
      "metadata": {
        "colab": {
          "base_uri": "https://localhost:8080/"
        },
        "id": "zey1iTr0vlCG",
        "outputId": "d7a4a7d6-2754-40f6-eefc-b2f2f09cc655"
      },
      "outputs": [
        {
          "output_type": "stream",
          "name": "stdout",
          "text": [
            "y = x^2, x = 3の傾き：6.00\n"
          ]
        }
      ],
      "source": [
        "# 実践2-1(微分):\n",
        "# y=x^2のある値での傾き(微分)を求める計算式を定義してください。 変化点を小さくすることで算出してください。\n",
        "# y'=2x\n",
        "\n",
        "# 導関数(傾き)を導く方程式\n",
        "def derivative(f, x, h=1e-10):    # limh→0の近似：h=1e-10 ←1×10¯¹º(例:1e2 = 1×10² = 1×10^2 = 1×100)\n",
        "  return (f(x+h) - f(x)) / h\n",
        "\n",
        "# 関数 f(x) = x^2 を定義\n",
        "def f(x):\n",
        "  return x ** 2   # pythonで二乗する方法は「^」ではなく「**」\n",
        "\n",
        "# 個別の方程式の傾きを算出\n",
        "derivative_at_x_3 = derivative(f, 3)  # h=1e-10はﾃﾞﾌｫﾙﾄなので引数を代入しなければ自動的にh=1e-10が代入される\n",
        "print(f\"y = x^2, x = 3の傾き：{derivative_at_x_3:.2f}\") # 小数点2桁表示 「:.2f}」"
      ]
    },
    {
      "cell_type": "code",
      "source": [
        "# 実践2-2(応用)\n",
        "# 任意の関数を受け取ってその関数の傾き(微分)を求める計算式を関数で定義してください。\n",
        "\n",
        "#　① y = x³ の場合\n",
        "def derivative(f, x, h=1e-10):\n",
        "  return (f(x+h) - f(x)) / h\n",
        "\n",
        "def f1(x):\n",
        "  return x ** 3\n",
        "\n",
        "derivative_f1_at_x_2 = derivative(f1, 2)\n",
        "print(f\"y = x^3, x=2 の傾き：{derivative_f1_at_x_2:.2f}\")\n",
        "\n",
        "# ② y = √x の場合\n",
        "def derivative(f, x, h=1e-10):\n",
        "  return (f(x+h) - f(x)) / h\n",
        "\n",
        "def f2(x):\n",
        "  return x ** 0.5\n",
        "\n",
        "derivative_f2_at_x_4 = derivative(f2, 4)\n",
        "print(f\"y = √x, x=4 の傾き：{derivative_f2_at_x_4:.2f}\")"
      ],
      "metadata": {
        "colab": {
          "base_uri": "https://localhost:8080/"
        },
        "id": "dlPEr5xn1dBa",
        "outputId": "ea8bce4c-86f5-4cbf-ee8b-7a6a71434a86"
      },
      "execution_count": 30,
      "outputs": [
        {
          "output_type": "stream",
          "name": "stdout",
          "text": [
            "y = x^3, x=2 の傾き：12.00\n",
            "y = √x, x=4 の傾き：0.25\n"
          ]
        }
      ]
    }
  ]
}