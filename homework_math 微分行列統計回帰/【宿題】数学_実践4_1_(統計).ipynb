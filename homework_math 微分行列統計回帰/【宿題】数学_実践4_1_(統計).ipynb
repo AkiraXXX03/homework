{
  "nbformat": 4,
  "nbformat_minor": 0,
  "metadata": {
    "colab": {
      "provenance": []
    },
    "kernelspec": {
      "name": "python3",
      "display_name": "Python 3"
    },
    "language_info": {
      "name": "python"
    }
  },
  "cells": [
    {
      "cell_type": "code",
      "execution_count": null,
      "metadata": {
        "id": "qT73mHllQTzv"
      },
      "outputs": [],
      "source": [
        "# 実践4-1(統計)\n",
        "# サンプルデータ 生徒10人の数学とプログラミングの試験点数が以下のように与えられています。\n",
        "# 数学: [75, 82, 91, 64, 88, 73, 95, 67, 81, 70]\n",
        "# プログラミング: [85, 76, 92, 68, 79, 81, 88, 65, 73, 87]"
      ]
    },
    {
      "cell_type": "code",
      "source": [
        "# 実践4-1 問題1: 平均値を求める 数学とプログラミングの試験点数それぞれの平均点を求めてください。\n",
        "def mean(scores):\n",
        "  total = 0\n",
        "  for key in scores:\n",
        "    total += key\n",
        "  return total / len(scores)\n",
        "\n",
        "math_scores = [75, 82, 91, 64, 88, 73, 95, 67, 81, 70]\n",
        "math_mean = mean(math_scores)\n",
        "print(f\"数学試験結果{math_scores}　平均値：{math_mean}点\")\n",
        "\n",
        "programing_scores = [85, 76, 92, 68, 79, 81, 88, 65, 73, 87]\n",
        "programing_mean = mean(programing_scores)\n",
        "print(f\"プログラミング試験結果{programing_scores}　平均値：{programing_mean}点\")"
      ],
      "metadata": {
        "colab": {
          "base_uri": "https://localhost:8080/"
        },
        "id": "bC00f1P1Wcrp",
        "outputId": "b2ea486c-6d2b-4fc4-f635-d813e035de20"
      },
      "execution_count": null,
      "outputs": [
        {
          "output_type": "stream",
          "name": "stdout",
          "text": [
            "数学試験結果[75, 82, 91, 64, 88, 73, 95, 67, 81, 70]　平均値：78.6点\n",
            "プログラミング試験結果[85, 76, 92, 68, 79, 81, 88, 65, 73, 87]　平均値：79.4点\n"
          ]
        }
      ]
    },
    {
      "cell_type": "code",
      "source": [
        "# 実践4-1 問題2: 中央値を求める 数学とプログラミングの試験点数それぞれの中央値を求めてください。\n",
        "def calculate_median(scores: list[int]) -> float:\n",
        "  \"\"\"\n",
        "  リスト内の要素の中央値を返す関数\n",
        "  Parameters:\n",
        "      scores: list[int]:テスト点数のリスト\n",
        "  Return:\n",
        "      float: 中央値\n",
        "  \"\"\"\n",
        "  value_sort = sorted(scores)\n",
        "  total_index = len(value_sort)\n",
        "  median_index = total_index // 2\n",
        "\n",
        "  if total_index % 2 == 1:\n",
        "    return value_sort[median_index]\n",
        "  else:\n",
        "    return (value_sort[median_index - 1] + value_sort[median_index]) / 2\n",
        "\n",
        "def print_result(exam_list: list[tuple[str, list[int]]]):  # 表示も関数化したかったのですが行列の要素を順に取り出す関数を作れず、chat GPTで調べました。\n",
        "  \"\"\"\n",
        "  試験名と点数一覧を渡すと、試験名、点数一覧、中央値を出力する関数\n",
        "  \"\"\"\n",
        "  for exam_name, scores in exam_list:\n",
        "    median = calculate_median(scores)\n",
        "    print(f\"テスト名：{exam_name}、 点数一覧：{scores}、中央値：{median}点\")\n",
        "\n",
        "exam_data = [\n",
        "    (\"数学\", [75, 82, 91, 64, 88, 73, 95, 67, 81, 70]),\n",
        "    (\"プログラミング\", [85, 76, 92, 68, 79, 81, 88, 65, 73, 87])\n",
        "]\n",
        "\n",
        "print_result(exam_data)\n",
        "\n",
        "print(\"=== 検証 ===\")\n",
        "# 上記コードの中央値が合っているか検証\n",
        "math_scores = exam_data[0][1]\n",
        "sorted_math_scores = sorted(math_scores)\n",
        "math_length = len(sorted_math_scores)\n",
        "math_median_index = math_length / 2\n",
        "print(f\"{exam_data[0][0]}: sort結果 {sorted_math_scores}　要素数:{math_length}　中央値は左から{math_median_index+0.5}番目(要素数が偶数の場合は左右の値の平均値が中央値)\")\n",
        "\n",
        "prog_scores = exam_data[1][1]\n",
        "sorted_prog_scores = sorted(prog_scores)\n",
        "prog_length = len(sorted_prog_scores)\n",
        "prog_median_index = prog_length / 2\n",
        "print(f\"{exam_data[1][0]}: sort結果 {sorted_prog_scores}　要素数:{prog_length}　中央値は左から{prog_median_index+0.5}番目(要素数が偶数の場合は左右の値の平均値が中央値)\")"
      ],
      "metadata": {
        "id": "nRkDseYxZRoI",
        "colab": {
          "base_uri": "https://localhost:8080/"
        },
        "outputId": "0468efea-089a-4dc2-b99a-88846fe8e2b7"
      },
      "execution_count": null,
      "outputs": [
        {
          "output_type": "stream",
          "name": "stdout",
          "text": [
            "テスト名：数学、 点数一覧：[75, 82, 91, 64, 88, 73, 95, 67, 81, 70]、中央値：78.0点\n",
            "テスト名：プログラミング、 点数一覧：[85, 76, 92, 68, 79, 81, 88, 65, 73, 87]、中央値：80.0点\n",
            "=== 検証 ===\n",
            "数学: sort結果 [64, 67, 70, 73, 75, 81, 82, 88, 91, 95]　要素数:10　中央値は左から5.5番目(要素数が偶数の場合は左右の値の平均値が中央値)\n",
            "プログラミング: sort結果 [65, 68, 73, 76, 79, 81, 85, 87, 88, 92]　要素数:10　中央値は左から5.5番目(要素数が偶数の場合は左右の値の平均値が中央値)\n"
          ]
        }
      ]
    },
    {
      "cell_type": "code",
      "source": [
        "# 実践4-1 問題3: 最頻値を求める 数学とプログラミングの試験点数それぞれの最頻値を求めてください。(①関数無しで求める方法)\n",
        "math_scores = [75, 82, 91, 64, 88, 73, 95, 67, 81, 70]\n",
        "programing_scores = [85, 76, 92, 68, 79, 81, 88, 65, 73, 87]\n",
        "\n",
        "print(\"最頻値①　最頻値の関数を作れず、関数を使わず最頻値を求める方法\")\n",
        "print(\"\")\n",
        "print(f\"数学のソート結果：{sorted(math_scores)}\")\n",
        "print(f\"プログラミングのソート結果：{sorted(programing_scores)}\")\n",
        "print(\"【解答】両方とも全ての値が出現頻度は1回なため、最頻値は無い。\")"
      ],
      "metadata": {
        "colab": {
          "base_uri": "https://localhost:8080/"
        },
        "id": "qCh_Xs3mxCbH",
        "outputId": "5d2397de-b0c5-4d82-92b8-1eb658cb1eac"
      },
      "execution_count": 33,
      "outputs": [
        {
          "output_type": "stream",
          "name": "stdout",
          "text": [
            "最頻値①　最頻値の関数を作れず、関数を使わず最頻値を求める方法\n",
            "\n",
            "数学のソート結果：[64, 67, 70, 73, 75, 81, 82, 88, 91, 95]\n",
            "プログラミングのソート結果：[65, 68, 73, 76, 79, 81, 85, 87, 88, 92]\n",
            "【解答】両方とも全ての値が出現頻度は1回なため、最頻値は無い。\n"
          ]
        }
      ]
    },
    {
      "cell_type": "code",
      "source": [
        "# 実践4-1 問題3: 最頻値を求める 数学とプログラミングの試験点数それぞれの最頻値を求めてください。(②Chat GPTが作成した関数で求める方法 ※get()ﾒｿｯﾄﾞ)\n",
        "print(\"最頻値②　get()とcount()メソッドによる算出\")\n",
        "print(\"\")\n",
        "\n",
        "math_scores = [75, 82, 91, 64, 88, 73, 95, 67, 81, 70]\n",
        "programing_scores = [85, 76, 92, 68, 79, 81, 88, 65, 73, 87]\n",
        "\n",
        "def mode(scores):\n",
        "  count = {}\n",
        "  for score in scores:\n",
        "    # 辞書count内に今回scoresから取り出したscoreと一致するキーがあれば\n",
        "    # そのキーに対応する値を取り出して +1 を追加して辞書に返す。\n",
        "    # もし無ければﾃﾞﾌｫﾙﾄ0 に＋1を追加して辞書に返す。\n",
        "    count[score] = count.get(score, 0) +1     # ←countメソッドかと思いましたがgetメソッドで、この構造を調べても見つからなかったのでChat GPTに何度も聞き直して何となく理解しましたが、あまりよく分かりません。\n",
        "\n",
        "  # 最大の出現回数　# ←以下からcount関数で算出するサイトを参照しましたが、最頻値が73などが出てしまい、chat GPTで最終的に直しましたがどうしても理解できません。ご説明のほどお願いします。\n",
        "  max_frequency= 0\n",
        "  md = None\n",
        "\n",
        "  for score, frequency in count.items():\n",
        "    if frequency > max_frequency:\n",
        "      max_frequency = frequency\n",
        "      md = score\n",
        "  if max_frequency == 1:\n",
        "      return None\n",
        "  return md\n",
        "\n",
        "math_mode = mode(math_scores)\n",
        "programing_mode = mode(programing_scores)\n",
        "\n",
        "print(f\"数学の最頻値: {math_mode}\")\n",
        "print(f\"プログラミングの最頻値: {programing_mode}\")"
      ],
      "metadata": {
        "colab": {
          "base_uri": "https://localhost:8080/"
        },
        "id": "RcHnO5oUxi-I",
        "outputId": "c9992ff4-eff9-443a-829b-ffc6c4366549"
      },
      "execution_count": 34,
      "outputs": [
        {
          "output_type": "stream",
          "name": "stdout",
          "text": [
            "最頻値②　get()とcount()メソッドによる算出\n",
            "\n",
            "数学の最頻値: None\n",
            "プログラミングの最頻値: None\n"
          ]
        }
      ]
    },
    {
      "cell_type": "code",
      "source": [
        "# 実践4-1 問題3: 最頻値　(③リベンジ(数学結果のみ ＆ 点数リストに70点を1つ追加) (一部詰まった部分をChat GPTに相談))\n",
        "print(\"最頻値③　1つずつのステップを関数にして最終的に最頻値を算出する方法 ※勉強のためリストデータの70点を2個に変更\")\n",
        "math_scores = [75, 82, 91, 64, 88, 73, 95, 67, 81, 70, 70]\n",
        "print(f\"数学点数リスト：{math_scores}\")\n",
        "print(\"\")\n",
        "\n",
        "# テスト点数の各出現回数を辞書にする\n",
        "def get_occurrence(scores: list[int]):\n",
        "  each_occurrence = {}\n",
        "  for score in scores:\n",
        "    each_occurrence[score] = scores.count(score) # 辞書にkey(点数)とvalue(その点数の発生回数)を追加する\n",
        "    if score == each_occurrence.get(score, 0):\n",
        "      break\n",
        "  return each_occurrence\n",
        "\n",
        "score_occurrence = get_occurrence(math_scores)\n",
        "print(\"step 1. テスト点数の各出現回数を辞書にする\")\n",
        "print(math_score_occurrence)\n",
        "\n",
        "# 出現回数が最も多い値を辞書から取り出す\n",
        "max_occurrence = max(score_occurrence.values())\n",
        "print(\"step 2. 出現回数が最も多い値(出現回数)を辞書から取り出す\")\n",
        "print(max_occurrence)\n",
        "\n",
        "# 最頻値に対応するkey(テスト点数)を表示する\n",
        "def get_mode(occurrences: dict[int, int]) -> int:\n",
        "  for score, occurrence in occurrences.items():\n",
        "    if occurrence == max_occurrence:\n",
        "      return score\n",
        "\n",
        "print(\"step 3. 出現回数が最も多い値(出現回数)に対応するkey(テスト点数)を返す\")\n",
        "print(get_mode(score_occurrence))\n",
        "\n",
        "print(f\"【解答】最頻値{get_mode(score_occurrence)}点　出現回数{max_occurrence}回\")"
      ],
      "metadata": {
        "colab": {
          "base_uri": "https://localhost:8080/"
        },
        "id": "xbNviYASeaG3",
        "outputId": "4cf42719-8436-43ef-98d7-8753fe740dbf"
      },
      "execution_count": 38,
      "outputs": [
        {
          "output_type": "stream",
          "name": "stdout",
          "text": [
            "最頻値③　1つずつのステップを関数にして最終的に最頻値を算出する方法 ※勉強のためリストデータの70点を2個に変更\n",
            "数学点数リスト：[75, 82, 91, 64, 88, 73, 95, 67, 81, 70, 70]\n",
            "\n",
            "step 1. テスト点数の各出現回数を辞書にする\n",
            "{75: 1, 82: 1, 91: 1, 64: 1, 88: 1, 73: 1, 95: 1, 67: 1, 81: 1, 70: 2}\n",
            "step 2. 出現回数が最も多い値(出現回数)を辞書から取り出す\n",
            "2\n",
            "step 3. 出現回数が最も多い値(出現回数)に対応するkey(テスト点数)を返す\n",
            "70\n",
            "【解答】最頻値70点　出現回数2回\n"
          ]
        }
      ]
    },
    {
      "cell_type": "code",
      "source": [
        "# 実践4-1 問題4: 標準偏差と分散を求める 数学とプログラミングの試験点数それぞれの標準偏差と分散を求めてください。(まずは数学試験のみ)\n",
        "# ■標準偏差の求め方(一般的な数学の計算方法)■\n",
        "# 1. 平均値を求める\n",
        "# 2. 偏差を求める: 偏差＝各データ値 - 平均値\n",
        "# 3. 分散を求める: (各データの偏差)²の合計 ÷ データの個数\n",
        "# 4. 平方根を求める: 標準偏差 = √分散   ※分散 = (標準偏差)²\n",
        "\n",
        "math_scores = [75, 82, 91, 64, 88, 73, 95, 67, 81, 70]\n",
        "programing_scores = [85, 76, 92, 68, 79, 81, 88, 65, 73, 87]\n",
        "\n",
        "print(\"数学試験の標準偏差と分散\")\n",
        "\n",
        "# 1. 平均値を求める\n",
        "def calculate_mean(scores: list[int]) -> float:\n",
        "  \"\"\"\n",
        "  list内の要素値を全部足したものを要素数で割る(要素値の平均値の算出)\n",
        "  \"\"\"\n",
        "  total = 0\n",
        "  for value in scores:\n",
        "    total += value\n",
        "  return total/len(scores)\n",
        "\n",
        "print(f\"1.平均値: {calculate_mean(math_scores)}点\")\n",
        "\n",
        "# 2. 偏差を求める: 偏差＝各データ値 - 平均値\n",
        "def deviation(scores: list[int], mean: float) -> list[float]:\n",
        "  \"\"\"\n",
        "  各list要素の偏差を求める（各要素値 - list要素の平均値)\n",
        "  \"\"\"\n",
        "  deviation = []\n",
        "  for value in scores:\n",
        "    each_deviation = value - mean\n",
        "    deviation.append(each_deviation)\n",
        "  return deviation\n",
        "\n",
        "print(f\"2.各偏差：{deviation(math_scores, calculate_mean(math_scores))}\")\n",
        "\n",
        "# 3. 分散を求める: (各データの偏差)²の合計 ÷ データの個数\n",
        "def calculate_variance(deviation: list[float]) -> float:\n",
        "  \"\"\"\n",
        "  分散を求める: (各データの偏差)²の合計 ÷ データの個数\n",
        "  Parameters:\n",
        "      deviation: list[float]: 各データの偏差値を格納したリスト配列\n",
        "  Return:\n",
        "      float: 分散の値\n",
        "  \"\"\"\n",
        "  i = 0\n",
        "  total = 0\n",
        "  for value in deviation:\n",
        "    total += value ** 2\n",
        "    i += 1\n",
        "  return total / i\n",
        "\n",
        "print(f\"3.分散：{calculate_variance(deviation(math_scores, calculate_mean(math_scores)))}\")\n",
        "\n",
        "# 4. 平方根を求める: 標準偏差 = √分散   ※分散 = (標準偏差)²\n",
        "def calculate_standard_deviation(calculate_variance: float) -> float:\n",
        "  return calculate_variance ** 0.5\n",
        "\n",
        "print(f\"4.標準偏差: {calculate_standard_deviation(calculate_variance(deviation(math_scores, calculate_mean(math_scores))))}\")"
      ],
      "metadata": {
        "id": "vr9xjtTcCUPz",
        "colab": {
          "base_uri": "https://localhost:8080/"
        },
        "outputId": "b2606537-54f5-4644-c39b-a9d7a93dc03e"
      },
      "execution_count": null,
      "outputs": [
        {
          "output_type": "stream",
          "name": "stdout",
          "text": [
            "数学試験の標準偏差と分散\n",
            "1.平均値: 78.6点\n",
            "2.各偏差：[-3.5999999999999943, 3.4000000000000057, 12.400000000000006, -14.599999999999994, 9.400000000000006, -5.599999999999994, 16.400000000000006, -11.599999999999994, 2.4000000000000057, -8.599999999999994]\n",
            "3.分散：99.44\n",
            "4.標準偏差: 9.971960689854328\n"
          ]
        }
      ]
    },
    {
      "cell_type": "code",
      "source": [
        "# 実践4-1 問題4: 標準偏差と分散を求める 数学とプログラミングの試験点数それぞれの標準偏差と分散を求めてください。(上記コードをインスタンス化して出力)　※どうしてもクラス化できず、ほぼ全面的にchatGPTと対話し全ての不明点を明確にしながら作成しました。下記コードは理解できましたが、クラスはまだ全然扱えないと思いました。\n",
        "\n",
        "class StandardDeviationCalculator:\n",
        "  def __init__(self, scores: list[int]):\n",
        "    self.scores = scores\n",
        "    self.mean = self._calculate_mean()\n",
        "    self.deviations = self._calculate_deviation()\n",
        "    self.variance = self._calculate_variance()\n",
        "    self.standard_deviation = self._calculate_standard_deviation()\n",
        "\n",
        "  def _calculate_mean(self) -> float:\n",
        "    total = 0\n",
        "    for value in self.scores:\n",
        "      total += value\n",
        "    return total/len(self.scores)\n",
        "  def _calculate_deviation(self) -> list[float]:\n",
        "    deviation = []\n",
        "    for value in self.scores:\n",
        "      each_deviation = value - self.mean\n",
        "      deviation.append(each_deviation)\n",
        "    return deviation\n",
        "  def _calculate_variance(self) -> float:\n",
        "    i = 0\n",
        "    total = 0\n",
        "    for value in self.deviations:\n",
        "      total += value ** 2\n",
        "      i += 1\n",
        "    return total / i\n",
        "  def _calculate_standard_deviation(self) -> float:\n",
        "    return self.variance ** 0.5\n",
        "\n",
        "math_scores = [75, 82, 91, 64, 88, 73, 95, 67, 81, 70]\n",
        "programing_scores = [85, 76, 92, 68, 79, 81, 88, 65, 73, 87]\n",
        "\n",
        "# インスタンス化\n",
        "math_exam = StandardDeviationCalculator(math_scores)\n",
        "programing_exam = StandardDeviationCalculator(programing_scores)\n",
        "\n",
        "# 分散と標準偏差のみ抽出、出力\n",
        "print(f\"【数学】分散:{math_exam.variance} 標準偏差:{math_exam.standard_deviation}\")\n",
        "print(f\"【ﾌﾟﾛｸﾞﾗﾐﾝｸﾞ】分散:{programing_exam.variance} 標準偏差{programing_exam.standard_deviation}\")"
      ],
      "metadata": {
        "colab": {
          "base_uri": "https://localhost:8080/"
        },
        "id": "5tjMfdIARFpV",
        "outputId": "82cfeaad-8b65-436b-91be-8b7699c6839b"
      },
      "execution_count": null,
      "outputs": [
        {
          "output_type": "stream",
          "name": "stdout",
          "text": [
            "【数学】分散:99.44 標準偏差:9.971960689854328\n",
            "【ﾌﾟﾛｸﾞﾗﾐﾝｸﾞ】分散:71.44 標準偏差8.452218643646175\n"
          ]
        }
      ]
    },
    {
      "cell_type": "code",
      "source": [
        "# 実践4-1 問題5: 相関係数を求める　(① statisticsﾓｼﾞｭｰﾙとmath関数を使用しないコード)\n",
        "# 数学とプログラミングの試験点数の相関係数を求めてください。\n",
        "# これらの問題を解くために、平均値、中央値、最頻値、標準偏差、分散、相関係数を計算する関数を作成し、サンプルデータを使って解答の一部を埋めてください。\n",
        "# リストの標準ライブラリのみを使用してください。\n",
        "# 【相関係数の算出手順】1.平均値 → (2.偏差 → 3.分散) → 4.標準偏差 → 5.共分散 → 6.相関係数\n",
        "\n",
        "print(\"①statisticsﾓｼﾞｭｰﾙとmath関数を使用せず各関数を作る場合\")\n",
        "\n",
        "math_scores = [75, 82, 91, 64, 88, 73, 95, 67, 81, 70]\n",
        "programing_scores = [85, 76, 92, 68, 79, 81, 88, 65, 73, 87]\n",
        "\n",
        "# 1.平均値\n",
        "def get_mean(scores: list[int]) -> float:\n",
        "  return sum(scores) / len(scores)\n",
        "# 中央値\n",
        "def get_median(scores: list[int]) -> float:\n",
        "  sorted_scores = sorted(scores)\n",
        "  median_index = len(sorted_scores) // 2\n",
        "  if len(sorted_scores) % 2 == 1:\n",
        "    return sorted_scores[median_index]\n",
        "  else:\n",
        "    return (sorted_scores[median_index - 1] + sorted_scores[median_index]) / 2\n",
        "# 最頻値\n",
        "def mode(scores: list[int]) -> int:\n",
        "  frequency_dict = {}\n",
        "  for score in scores:\n",
        "    frequency_dict[score] = frequency_dict.get(score, 0) +1\n",
        "  max_frequency = 0\n",
        "  md = None\n",
        "  for score, frequency in frequency_dict.items():\n",
        "    if frequency > max_frequency:\n",
        "      max_frequency = frequency\n",
        "      md = score\n",
        "  if max_frequency == 1:\n",
        "    return None\n",
        "  return md\n",
        "\n",
        "# 4.標準偏差\n",
        "# step1. 平均値を求める\n",
        "# step2. 偏差を求める: 偏差＝各データ値 - 平均値\n",
        "# step3. 分散を求める: (各データの偏差)²の合計 ÷ データの個数\n",
        "# step4. 平方根を求める: 標準偏差 = √分散   ※分散 = (標準偏差)²\n",
        "\n",
        "def get_standard_devision(scores: list[int]) -> float: # 標準偏差を算出する関数\n",
        "  mean_value = sum(scores) / len(scores) # 平均値\n",
        "\n",
        "  def get_devisions(scores: list[int]) -> list[int]: # 偏差のリストを作成する関数\n",
        "    devisions = []\n",
        "    for score in scores:\n",
        "      devision = score - mean_value\n",
        "      devisions.append(devision)\n",
        "    return devisions\n",
        "\n",
        "  devisions = get_devisions(scores) # 分散を算出する関数\n",
        "  def get_variance(devisions: list[int]) ->float:\n",
        "    total = 0\n",
        "    for devision in devisions:\n",
        "      total += devision ** 2\n",
        "    return total / len(devisions)\n",
        "\n",
        "  variance = get_variance(devisions)\n",
        "  return variance ** 0.5   # 標準偏差を算出 (標準偏差 = √分散)\n",
        "\n",
        "# 5.共分散\n",
        "def covariance(x: list[int], y: list[int]) -> float:\n",
        "    x_mean = sum(x) / len(x)\n",
        "    y_mean = sum(y) / len(y)\n",
        "    cov = sum((x_i - x_mean) * (y_i - y_mean) for x_i, y_i in zip(x, y)) # x_i　でどうして各値を抽出できるのでしょうか。またfor以降の意味のご説明をお願いします。。\n",
        "    return cov / (len(x) - 1)\n",
        "\n",
        "# 6.相関係数\n",
        "# 相関係数 = 共分散÷(標準偏差1 × 標準偏差2)\n",
        "\n",
        "def corr_coef(x: float, y: float) -> float:\n",
        "    \"\"\"\n",
        "    相関係数 (共分散÷(標準偏差1 × 標準偏差2))　を算出する関数\n",
        "    Parameters\n",
        "        x: float: 共分散\n",
        "        y: float: 標準偏差1 × 標準偏差2\n",
        "    Return\n",
        "        float: 相関係数\n",
        "    \"\"\"\n",
        "    return x / y\n",
        "\n",
        "math_scores = [75, 82, 91, 64, 88, 73, 95, 67, 81, 70]\n",
        "programing_scores = [85, 76, 92, 68, 79, 81, 88, 65, 73, 87]\n",
        "\n",
        "covariance_value = covariance(math_scores, programing_scores)\n",
        "standard_devisions_product = get_standard_devision(math_scores) * get_standard_devision(programing_scores)\n",
        "\n",
        "corr = corr_coef(covariance_value, standard_devisions_product)\n",
        "print(f\"数学とプログラミングの相関係数: {corr}\")"
      ],
      "metadata": {
        "id": "S2y0au4Em0Ln",
        "colab": {
          "base_uri": "https://localhost:8080/"
        },
        "outputId": "8bfcaf29-0a1f-4927-8e39-6dcb9b70ca5a"
      },
      "execution_count": 62,
      "outputs": [
        {
          "output_type": "stream",
          "name": "stdout",
          "text": [
            "①statisticsﾓｼﾞｭｰﾙとmath関数を使用せず各関数を作る場合\n",
            "数学とプログラミングの相関係数: 0.6665201372516742\n"
          ]
        }
      ]
    },
    {
      "cell_type": "code",
      "source": [
        "# 実践4-1 問題5: 相関係数を求める　(② statisticsﾓｼﾞｭｰﾙを使用したコード)\n",
        "# 共分散 = {(x1の偏差 - y1の偏差) + (x2の偏差 - y2の偏差) + ・・・} ÷ 合計個数\n",
        "# 相関係数 = 共分散÷(標準偏差1 × 標準偏差2)\n",
        "print(\"②statisticsﾓｼﾞｭｰﾙを使用した場合\")\n",
        "\n",
        "import statistics\n",
        "\n",
        "def covariance(x, y):\n",
        "    x_mean = mean(x)\n",
        "    y_mean = mean(y)\n",
        "    cov = sum((x_i - x_mean) * (y_i - y_mean) for x_i, y_i in zip(x, y))\n",
        "    return cov / (len(x) - 1)\n",
        "\n",
        "def corr_coef(x, y):\n",
        "    def covariance(x, y):\n",
        "      x_mean = statistics.mean(x)\n",
        "      y_mean = statistics.mean(y)\n",
        "      cov = sum((x_i - x_mean) * (y_i - y_mean) for x_i, y_i in zip(x, y))\n",
        "      return cov / (len(x) - 1)\n",
        "\n",
        "    covariance = covariance(x, y)\n",
        "    x_stdev = statistics.stdev(x)\n",
        "    y_stdev = statistics.stdev(y)\n",
        "\n",
        "    return covariance / x_stdev / y_stdev\n",
        "\n",
        "corr = corr_coef(math_scores, programing_scores)\n",
        "print(f\"数学とプログラミングの相関係数: {corr}\")"
      ],
      "metadata": {
        "colab": {
          "base_uri": "https://localhost:8080/"
        },
        "id": "ER5UQYj7HvaO",
        "outputId": "44d4edf9-c7f1-4b62-fe35-238c36941438"
      },
      "execution_count": 66,
      "outputs": [
        {
          "output_type": "stream",
          "name": "stdout",
          "text": [
            "②statisticsﾓｼﾞｭｰﾙを使用した場合\n",
            "数学とプログラミングの相関係数: 0.5998681235265066\n"
          ]
        }
      ]
    }
  ]
}